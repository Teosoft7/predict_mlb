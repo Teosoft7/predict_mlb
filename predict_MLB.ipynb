{
 "cells": [
  {
   "cell_type": "markdown",
   "metadata": {},
   "source": [
    "# Predict MLB\n",
    "\n",
    "**Predict playoff odds for MLB teams**\n",
    "\n",
    "## Let's predict odds for playoff\n",
    "\n",
    "MLB.com provides the stats of the AL/NL teams such as Batting average, OPS (On-base  Plus Slugging), ERA (Earned Runs Average), WHIP(Walks Plus Hits Divided by Innings Pitched), etc. (http://mlb.mlb.com/stats/)\n",
    "\n",
    "And there are API that provides get some stats of MLB with Python. You need to install it with \n",
    "``` pip install MLB-StatsAPI ```\n",
    "\n",
    "\n",
    "Based on the Hitting, Pitching, and Fielding stats for division winners of the last 10 years,  let's try to make a machine learning model with classification methods. (Logistic Regression)\n",
    "\n",
    "With this model, let's figure out which team is going to advance to the playoff.\n",
    "\n",
    "If you only have some interest about the data set, you can find it [here](https://github.com/Teosoft7/predict_mlb/blob/master/mlb_stats/mlb_stading.csv)\n"
   ]
  },
  {
   "cell_type": "code",
   "execution_count": 1,
   "metadata": {},
   "outputs": [],
   "source": [
    "# import libraries\n",
    "import numpy as np\n",
    "import pandas as pd\n",
    "import seaborn as sns\n",
    "\n",
    "from matplotlib import pyplot as plt\n",
    "%matplotlib inline\n",
    "\n",
    "# import MLB-StatsAPI\n",
    "import statsapi as mlb"
   ]
  },
  {
   "cell_type": "markdown",
   "metadata": {},
   "source": [
    "### Make a data set"
   ]
  },
  {
   "cell_type": "markdown",
   "metadata": {},
   "source": [
    "MLB.com provide the stats of the MLB teams for Hitting, Pitching, and Fielding.\n",
    "\n",
    "For more convenience, let's concatenate the 3 different sheets to one sheet."
   ]
  },
  {
   "cell_type": "code",
   "execution_count": 2,
   "metadata": {},
   "outputs": [
    {
     "data": {
      "text/html": [
       "<div>\n",
       "<style scoped>\n",
       "    .dataframe tbody tr th:only-of-type {\n",
       "        vertical-align: middle;\n",
       "    }\n",
       "\n",
       "    .dataframe tbody tr th {\n",
       "        vertical-align: top;\n",
       "    }\n",
       "\n",
       "    .dataframe thead th {\n",
       "        text-align: right;\n",
       "    }\n",
       "</style>\n",
       "<table border=\"1\" class=\"dataframe\">\n",
       "  <thead>\n",
       "    <tr style=\"text-align: right;\">\n",
       "      <th></th>\n",
       "      <th>Year</th>\n",
       "      <th>RK</th>\n",
       "      <th>Team</th>\n",
       "      <th>League</th>\n",
       "      <th>G</th>\n",
       "      <th>AB</th>\n",
       "      <th>R</th>\n",
       "      <th>H</th>\n",
       "      <th>2B</th>\n",
       "      <th>3B</th>\n",
       "      <th>HR</th>\n",
       "      <th>RBI</th>\n",
       "      <th>BB</th>\n",
       "      <th>SO</th>\n",
       "      <th>SB</th>\n",
       "      <th>CS</th>\n",
       "      <th>AVG▼</th>\n",
       "      <th>OBP</th>\n",
       "      <th>SLG</th>\n",
       "      <th>OPS</th>\n",
       "    </tr>\n",
       "  </thead>\n",
       "  <tbody>\n",
       "    <tr>\n",
       "      <th>0</th>\n",
       "      <td>2018.0</td>\n",
       "      <td>1</td>\n",
       "      <td>Boston Red Sox</td>\n",
       "      <td>AL</td>\n",
       "      <td>162</td>\n",
       "      <td>5623</td>\n",
       "      <td>876</td>\n",
       "      <td>1509</td>\n",
       "      <td>355</td>\n",
       "      <td>31</td>\n",
       "      <td>208</td>\n",
       "      <td>829</td>\n",
       "      <td>569</td>\n",
       "      <td>1253</td>\n",
       "      <td>125</td>\n",
       "      <td>31</td>\n",
       "      <td>0.268</td>\n",
       "      <td>0.339</td>\n",
       "      <td>0.453</td>\n",
       "      <td>0.792</td>\n",
       "    </tr>\n",
       "    <tr>\n",
       "      <th>1</th>\n",
       "      <td>NaN</td>\n",
       "      <td>2</td>\n",
       "      <td>Cleveland Indians</td>\n",
       "      <td>AL</td>\n",
       "      <td>162</td>\n",
       "      <td>5595</td>\n",
       "      <td>818</td>\n",
       "      <td>1447</td>\n",
       "      <td>297</td>\n",
       "      <td>19</td>\n",
       "      <td>216</td>\n",
       "      <td>786</td>\n",
       "      <td>554</td>\n",
       "      <td>1189</td>\n",
       "      <td>135</td>\n",
       "      <td>36</td>\n",
       "      <td>0.259</td>\n",
       "      <td>0.332</td>\n",
       "      <td>0.434</td>\n",
       "      <td>0.766</td>\n",
       "    </tr>\n",
       "    <tr>\n",
       "      <th>2</th>\n",
       "      <td>NaN</td>\n",
       "      <td>3</td>\n",
       "      <td>Tampa Bay Rays</td>\n",
       "      <td>AL</td>\n",
       "      <td>162</td>\n",
       "      <td>5475</td>\n",
       "      <td>716</td>\n",
       "      <td>1415</td>\n",
       "      <td>274</td>\n",
       "      <td>43</td>\n",
       "      <td>150</td>\n",
       "      <td>664</td>\n",
       "      <td>540</td>\n",
       "      <td>1388</td>\n",
       "      <td>128</td>\n",
       "      <td>51</td>\n",
       "      <td>0.258</td>\n",
       "      <td>0.333</td>\n",
       "      <td>0.406</td>\n",
       "      <td>0.740</td>\n",
       "    </tr>\n",
       "  </tbody>\n",
       "</table>\n",
       "</div>"
      ],
      "text/plain": [
       "     Year  RK               Team League    G    AB    R     H   2B  3B   HR  \\\n",
       "0  2018.0   1     Boston Red Sox     AL  162  5623  876  1509  355  31  208   \n",
       "1     NaN   2  Cleveland Indians     AL  162  5595  818  1447  297  19  216   \n",
       "2     NaN   3     Tampa Bay Rays     AL  162  5475  716  1415  274  43  150   \n",
       "\n",
       "   RBI   BB    SO   SB  CS   AVG▼    OBP    SLG    OPS  \n",
       "0  829  569  1253  125  31  0.268  0.339  0.453  0.792  \n",
       "1  786  554  1189  135  36  0.259  0.332  0.434  0.766  \n",
       "2  664  540  1388  128  51  0.258  0.333  0.406  0.740  "
      ]
     },
     "execution_count": 2,
     "metadata": {},
     "output_type": "execute_result"
    }
   ],
   "source": [
    "# Load data from CSV\n",
    "hitting_df = pd.read_csv('mlb_stats/Hitting.csv')\n",
    "hitting_df.head(3)"
   ]
  },
  {
   "cell_type": "code",
   "execution_count": 3,
   "metadata": {},
   "outputs": [],
   "source": [
    "# Set Year Value for NaN\n",
    "def set_year(df):\n",
    "    \"\"\"Set year value with previous year value for NaN\"\"\"\n",
    "    for i, row in df.iterrows():\n",
    "        if np.isnan(row['Year']):\n",
    "            df.loc[i, 'Year'] = year\n",
    "        else:\n",
    "            year = row['Year']"
   ]
  },
  {
   "cell_type": "code",
   "execution_count": 4,
   "metadata": {},
   "outputs": [
    {
     "data": {
      "text/html": [
       "<div>\n",
       "<style scoped>\n",
       "    .dataframe tbody tr th:only-of-type {\n",
       "        vertical-align: middle;\n",
       "    }\n",
       "\n",
       "    .dataframe tbody tr th {\n",
       "        vertical-align: top;\n",
       "    }\n",
       "\n",
       "    .dataframe thead th {\n",
       "        text-align: right;\n",
       "    }\n",
       "</style>\n",
       "<table border=\"1\" class=\"dataframe\">\n",
       "  <thead>\n",
       "    <tr style=\"text-align: right;\">\n",
       "      <th></th>\n",
       "      <th>Year</th>\n",
       "      <th>RK</th>\n",
       "      <th>Team</th>\n",
       "      <th>League</th>\n",
       "      <th>G</th>\n",
       "      <th>AB</th>\n",
       "      <th>R</th>\n",
       "      <th>H</th>\n",
       "      <th>2B</th>\n",
       "      <th>3B</th>\n",
       "      <th>HR</th>\n",
       "      <th>RBI</th>\n",
       "      <th>BB</th>\n",
       "      <th>SO</th>\n",
       "      <th>SB</th>\n",
       "      <th>CS</th>\n",
       "      <th>AVG▼</th>\n",
       "      <th>OBP</th>\n",
       "      <th>SLG</th>\n",
       "      <th>OPS</th>\n",
       "    </tr>\n",
       "  </thead>\n",
       "  <tbody>\n",
       "    <tr>\n",
       "      <th>0</th>\n",
       "      <td>2018.0</td>\n",
       "      <td>1</td>\n",
       "      <td>Boston Red Sox</td>\n",
       "      <td>AL</td>\n",
       "      <td>162</td>\n",
       "      <td>5623</td>\n",
       "      <td>876</td>\n",
       "      <td>1509</td>\n",
       "      <td>355</td>\n",
       "      <td>31</td>\n",
       "      <td>208</td>\n",
       "      <td>829</td>\n",
       "      <td>569</td>\n",
       "      <td>1253</td>\n",
       "      <td>125</td>\n",
       "      <td>31</td>\n",
       "      <td>0.268</td>\n",
       "      <td>0.339</td>\n",
       "      <td>0.453</td>\n",
       "      <td>0.792</td>\n",
       "    </tr>\n",
       "    <tr>\n",
       "      <th>1</th>\n",
       "      <td>2018.0</td>\n",
       "      <td>2</td>\n",
       "      <td>Cleveland Indians</td>\n",
       "      <td>AL</td>\n",
       "      <td>162</td>\n",
       "      <td>5595</td>\n",
       "      <td>818</td>\n",
       "      <td>1447</td>\n",
       "      <td>297</td>\n",
       "      <td>19</td>\n",
       "      <td>216</td>\n",
       "      <td>786</td>\n",
       "      <td>554</td>\n",
       "      <td>1189</td>\n",
       "      <td>135</td>\n",
       "      <td>36</td>\n",
       "      <td>0.259</td>\n",
       "      <td>0.332</td>\n",
       "      <td>0.434</td>\n",
       "      <td>0.766</td>\n",
       "    </tr>\n",
       "    <tr>\n",
       "      <th>2</th>\n",
       "      <td>2018.0</td>\n",
       "      <td>3</td>\n",
       "      <td>Tampa Bay Rays</td>\n",
       "      <td>AL</td>\n",
       "      <td>162</td>\n",
       "      <td>5475</td>\n",
       "      <td>716</td>\n",
       "      <td>1415</td>\n",
       "      <td>274</td>\n",
       "      <td>43</td>\n",
       "      <td>150</td>\n",
       "      <td>664</td>\n",
       "      <td>540</td>\n",
       "      <td>1388</td>\n",
       "      <td>128</td>\n",
       "      <td>51</td>\n",
       "      <td>0.258</td>\n",
       "      <td>0.333</td>\n",
       "      <td>0.406</td>\n",
       "      <td>0.740</td>\n",
       "    </tr>\n",
       "  </tbody>\n",
       "</table>\n",
       "</div>"
      ],
      "text/plain": [
       "     Year  RK               Team League    G    AB    R     H   2B  3B   HR  \\\n",
       "0  2018.0   1     Boston Red Sox     AL  162  5623  876  1509  355  31  208   \n",
       "1  2018.0   2  Cleveland Indians     AL  162  5595  818  1447  297  19  216   \n",
       "2  2018.0   3     Tampa Bay Rays     AL  162  5475  716  1415  274  43  150   \n",
       "\n",
       "   RBI   BB    SO   SB  CS   AVG▼    OBP    SLG    OPS  \n",
       "0  829  569  1253  125  31  0.268  0.339  0.453  0.792  \n",
       "1  786  554  1189  135  36  0.259  0.332  0.434  0.766  \n",
       "2  664  540  1388  128  51  0.258  0.333  0.406  0.740  "
      ]
     },
     "execution_count": 4,
     "metadata": {},
     "output_type": "execute_result"
    }
   ],
   "source": [
    "# Cleaning for Hitting\n",
    "set_year(hitting_df)\n",
    "hitting_df.head(3)"
   ]
  },
  {
   "cell_type": "code",
   "execution_count": 5,
   "metadata": {},
   "outputs": [
    {
     "data": {
      "text/html": [
       "<div>\n",
       "<style scoped>\n",
       "    .dataframe tbody tr th:only-of-type {\n",
       "        vertical-align: middle;\n",
       "    }\n",
       "\n",
       "    .dataframe tbody tr th {\n",
       "        vertical-align: top;\n",
       "    }\n",
       "\n",
       "    .dataframe thead th {\n",
       "        text-align: right;\n",
       "    }\n",
       "</style>\n",
       "<table border=\"1\" class=\"dataframe\">\n",
       "  <thead>\n",
       "    <tr style=\"text-align: right;\">\n",
       "      <th></th>\n",
       "      <th>Year</th>\n",
       "      <th>RK</th>\n",
       "      <th>Team</th>\n",
       "      <th>League</th>\n",
       "      <th>W</th>\n",
       "      <th>L</th>\n",
       "      <th>ERA</th>\n",
       "      <th>G</th>\n",
       "      <th>GS</th>\n",
       "      <th>SV</th>\n",
       "      <th>SVO</th>\n",
       "      <th>IP</th>\n",
       "      <th>H</th>\n",
       "      <th>R</th>\n",
       "      <th>ER</th>\n",
       "      <th>HR</th>\n",
       "      <th>BB</th>\n",
       "      <th>SO</th>\n",
       "      <th>AVG▼</th>\n",
       "      <th>WHIP</th>\n",
       "    </tr>\n",
       "  </thead>\n",
       "  <tbody>\n",
       "    <tr>\n",
       "      <th>0</th>\n",
       "      <td>2018.0</td>\n",
       "      <td>1</td>\n",
       "      <td>Baltimore Orioles</td>\n",
       "      <td>AL</td>\n",
       "      <td>47</td>\n",
       "      <td>115</td>\n",
       "      <td>5.18</td>\n",
       "      <td>162</td>\n",
       "      <td>162</td>\n",
       "      <td>28</td>\n",
       "      <td>46</td>\n",
       "      <td>1431.0</td>\n",
       "      <td>1552</td>\n",
       "      <td>892</td>\n",
       "      <td>824</td>\n",
       "      <td>234</td>\n",
       "      <td>589</td>\n",
       "      <td>1203</td>\n",
       "      <td>0.276</td>\n",
       "      <td>1.50</td>\n",
       "    </tr>\n",
       "    <tr>\n",
       "      <th>1</th>\n",
       "      <td>NaN</td>\n",
       "      <td>2</td>\n",
       "      <td>Kansas City Royals</td>\n",
       "      <td>AL</td>\n",
       "      <td>58</td>\n",
       "      <td>104</td>\n",
       "      <td>4.94</td>\n",
       "      <td>162</td>\n",
       "      <td>162</td>\n",
       "      <td>33</td>\n",
       "      <td>57</td>\n",
       "      <td>1432.0</td>\n",
       "      <td>1542</td>\n",
       "      <td>833</td>\n",
       "      <td>786</td>\n",
       "      <td>205</td>\n",
       "      <td>549</td>\n",
       "      <td>1157</td>\n",
       "      <td>0.275</td>\n",
       "      <td>1.46</td>\n",
       "    </tr>\n",
       "    <tr>\n",
       "      <th>2</th>\n",
       "      <td>NaN</td>\n",
       "      <td>3</td>\n",
       "      <td>Texas Rangers</td>\n",
       "      <td>AL</td>\n",
       "      <td>67</td>\n",
       "      <td>95</td>\n",
       "      <td>4.92</td>\n",
       "      <td>162</td>\n",
       "      <td>162</td>\n",
       "      <td>42</td>\n",
       "      <td>56</td>\n",
       "      <td>1431.0</td>\n",
       "      <td>1516</td>\n",
       "      <td>848</td>\n",
       "      <td>783</td>\n",
       "      <td>222</td>\n",
       "      <td>491</td>\n",
       "      <td>1121</td>\n",
       "      <td>0.271</td>\n",
       "      <td>1.40</td>\n",
       "    </tr>\n",
       "  </tbody>\n",
       "</table>\n",
       "</div>"
      ],
      "text/plain": [
       "     Year  RK                Team League   W    L   ERA    G   GS  SV  SVO  \\\n",
       "0  2018.0   1   Baltimore Orioles     AL  47  115  5.18  162  162  28   46   \n",
       "1     NaN   2  Kansas City Royals     AL  58  104  4.94  162  162  33   57   \n",
       "2     NaN   3       Texas Rangers     AL  67   95  4.92  162  162  42   56   \n",
       "\n",
       "       IP     H    R   ER   HR   BB    SO   AVG▼  WHIP  \n",
       "0  1431.0  1552  892  824  234  589  1203  0.276  1.50  \n",
       "1  1432.0  1542  833  786  205  549  1157  0.275  1.46  \n",
       "2  1431.0  1516  848  783  222  491  1121  0.271  1.40  "
      ]
     },
     "execution_count": 5,
     "metadata": {},
     "output_type": "execute_result"
    }
   ],
   "source": [
    "# Loading Pitching\n",
    "pitching_df = pd.read_csv('mlb_stats/Pictching.csv')\n",
    "pitching_df.head(3)"
   ]
  },
  {
   "cell_type": "code",
   "execution_count": 6,
   "metadata": {},
   "outputs": [
    {
     "data": {
      "text/html": [
       "<div>\n",
       "<style scoped>\n",
       "    .dataframe tbody tr th:only-of-type {\n",
       "        vertical-align: middle;\n",
       "    }\n",
       "\n",
       "    .dataframe tbody tr th {\n",
       "        vertical-align: top;\n",
       "    }\n",
       "\n",
       "    .dataframe thead th {\n",
       "        text-align: right;\n",
       "    }\n",
       "</style>\n",
       "<table border=\"1\" class=\"dataframe\">\n",
       "  <thead>\n",
       "    <tr style=\"text-align: right;\">\n",
       "      <th></th>\n",
       "      <th>Year</th>\n",
       "      <th>RK</th>\n",
       "      <th>Team</th>\n",
       "      <th>League</th>\n",
       "      <th>W</th>\n",
       "      <th>L</th>\n",
       "      <th>ERA</th>\n",
       "      <th>G</th>\n",
       "      <th>GS</th>\n",
       "      <th>SV</th>\n",
       "      <th>SVO</th>\n",
       "      <th>IP</th>\n",
       "      <th>H</th>\n",
       "      <th>R</th>\n",
       "      <th>ER</th>\n",
       "      <th>HR</th>\n",
       "      <th>BB</th>\n",
       "      <th>SO</th>\n",
       "      <th>AVG▼</th>\n",
       "      <th>WHIP</th>\n",
       "    </tr>\n",
       "  </thead>\n",
       "  <tbody>\n",
       "    <tr>\n",
       "      <th>0</th>\n",
       "      <td>2018.0</td>\n",
       "      <td>1</td>\n",
       "      <td>Baltimore Orioles</td>\n",
       "      <td>AL</td>\n",
       "      <td>47</td>\n",
       "      <td>115</td>\n",
       "      <td>5.18</td>\n",
       "      <td>162</td>\n",
       "      <td>162</td>\n",
       "      <td>28</td>\n",
       "      <td>46</td>\n",
       "      <td>1431.0</td>\n",
       "      <td>1552</td>\n",
       "      <td>892</td>\n",
       "      <td>824</td>\n",
       "      <td>234</td>\n",
       "      <td>589</td>\n",
       "      <td>1203</td>\n",
       "      <td>0.276</td>\n",
       "      <td>1.50</td>\n",
       "    </tr>\n",
       "    <tr>\n",
       "      <th>1</th>\n",
       "      <td>2018.0</td>\n",
       "      <td>2</td>\n",
       "      <td>Kansas City Royals</td>\n",
       "      <td>AL</td>\n",
       "      <td>58</td>\n",
       "      <td>104</td>\n",
       "      <td>4.94</td>\n",
       "      <td>162</td>\n",
       "      <td>162</td>\n",
       "      <td>33</td>\n",
       "      <td>57</td>\n",
       "      <td>1432.0</td>\n",
       "      <td>1542</td>\n",
       "      <td>833</td>\n",
       "      <td>786</td>\n",
       "      <td>205</td>\n",
       "      <td>549</td>\n",
       "      <td>1157</td>\n",
       "      <td>0.275</td>\n",
       "      <td>1.46</td>\n",
       "    </tr>\n",
       "    <tr>\n",
       "      <th>2</th>\n",
       "      <td>2018.0</td>\n",
       "      <td>3</td>\n",
       "      <td>Texas Rangers</td>\n",
       "      <td>AL</td>\n",
       "      <td>67</td>\n",
       "      <td>95</td>\n",
       "      <td>4.92</td>\n",
       "      <td>162</td>\n",
       "      <td>162</td>\n",
       "      <td>42</td>\n",
       "      <td>56</td>\n",
       "      <td>1431.0</td>\n",
       "      <td>1516</td>\n",
       "      <td>848</td>\n",
       "      <td>783</td>\n",
       "      <td>222</td>\n",
       "      <td>491</td>\n",
       "      <td>1121</td>\n",
       "      <td>0.271</td>\n",
       "      <td>1.40</td>\n",
       "    </tr>\n",
       "  </tbody>\n",
       "</table>\n",
       "</div>"
      ],
      "text/plain": [
       "     Year  RK                Team League   W    L   ERA    G   GS  SV  SVO  \\\n",
       "0  2018.0   1   Baltimore Orioles     AL  47  115  5.18  162  162  28   46   \n",
       "1  2018.0   2  Kansas City Royals     AL  58  104  4.94  162  162  33   57   \n",
       "2  2018.0   3       Texas Rangers     AL  67   95  4.92  162  162  42   56   \n",
       "\n",
       "       IP     H    R   ER   HR   BB    SO   AVG▼  WHIP  \n",
       "0  1431.0  1552  892  824  234  589  1203  0.276  1.50  \n",
       "1  1432.0  1542  833  786  205  549  1157  0.275  1.46  \n",
       "2  1431.0  1516  848  783  222  491  1121  0.271  1.40  "
      ]
     },
     "execution_count": 6,
     "metadata": {},
     "output_type": "execute_result"
    }
   ],
   "source": [
    "# Cleaning Pitching\n",
    "set_year(pitching_df)\n",
    "pitching_df.head(3)"
   ]
  },
  {
   "cell_type": "code",
   "execution_count": 7,
   "metadata": {},
   "outputs": [
    {
     "data": {
      "text/html": [
       "<div>\n",
       "<style scoped>\n",
       "    .dataframe tbody tr th:only-of-type {\n",
       "        vertical-align: middle;\n",
       "    }\n",
       "\n",
       "    .dataframe tbody tr th {\n",
       "        vertical-align: top;\n",
       "    }\n",
       "\n",
       "    .dataframe thead th {\n",
       "        text-align: right;\n",
       "    }\n",
       "</style>\n",
       "<table border=\"1\" class=\"dataframe\">\n",
       "  <thead>\n",
       "    <tr style=\"text-align: right;\">\n",
       "      <th></th>\n",
       "      <th>Year</th>\n",
       "      <th>RK</th>\n",
       "      <th>Team</th>\n",
       "      <th>League</th>\n",
       "      <th>G</th>\n",
       "      <th>GS</th>\n",
       "      <th>INN</th>\n",
       "      <th>TC</th>\n",
       "      <th>PO</th>\n",
       "      <th>A</th>\n",
       "      <th>E</th>\n",
       "      <th>DP</th>\n",
       "      <th>SB</th>\n",
       "      <th>CS</th>\n",
       "      <th>SBPCT</th>\n",
       "      <th>PB</th>\n",
       "      <th>C_WP</th>\n",
       "      <th>FPCT▼</th>\n",
       "      <th>DER</th>\n",
       "    </tr>\n",
       "  </thead>\n",
       "  <tbody>\n",
       "    <tr>\n",
       "      <th>0</th>\n",
       "      <td>2018.0</td>\n",
       "      <td>1</td>\n",
       "      <td>Houston Astros</td>\n",
       "      <td>AL</td>\n",
       "      <td>162</td>\n",
       "      <td>1458</td>\n",
       "      <td>13095.0</td>\n",
       "      <td>5797</td>\n",
       "      <td>4365</td>\n",
       "      <td>1369</td>\n",
       "      <td>63</td>\n",
       "      <td>116</td>\n",
       "      <td>60</td>\n",
       "      <td>25</td>\n",
       "      <td>0.706</td>\n",
       "      <td>15</td>\n",
       "      <td>67</td>\n",
       "      <td>0.989</td>\n",
       "      <td>0.707</td>\n",
       "    </tr>\n",
       "    <tr>\n",
       "      <th>1</th>\n",
       "      <td>NaN</td>\n",
       "      <td>2</td>\n",
       "      <td>Washington Nationals</td>\n",
       "      <td>NL</td>\n",
       "      <td>162</td>\n",
       "      <td>1458</td>\n",
       "      <td>13014.0</td>\n",
       "      <td>5765</td>\n",
       "      <td>4338</td>\n",
       "      <td>1363</td>\n",
       "      <td>64</td>\n",
       "      <td>115</td>\n",
       "      <td>75</td>\n",
       "      <td>43</td>\n",
       "      <td>0.636</td>\n",
       "      <td>10</td>\n",
       "      <td>42</td>\n",
       "      <td>0.989</td>\n",
       "      <td>0.703</td>\n",
       "    </tr>\n",
       "    <tr>\n",
       "      <th>2</th>\n",
       "      <td>NaN</td>\n",
       "      <td>3</td>\n",
       "      <td>Arizona Diamondbacks</td>\n",
       "      <td>NL</td>\n",
       "      <td>162</td>\n",
       "      <td>1458</td>\n",
       "      <td>13167.0</td>\n",
       "      <td>6150</td>\n",
       "      <td>4389</td>\n",
       "      <td>1686</td>\n",
       "      <td>75</td>\n",
       "      <td>152</td>\n",
       "      <td>66</td>\n",
       "      <td>27</td>\n",
       "      <td>0.710</td>\n",
       "      <td>6</td>\n",
       "      <td>69</td>\n",
       "      <td>0.988</td>\n",
       "      <td>0.699</td>\n",
       "    </tr>\n",
       "  </tbody>\n",
       "</table>\n",
       "</div>"
      ],
      "text/plain": [
       "     Year  RK                  Team League    G    GS      INN    TC    PO  \\\n",
       "0  2018.0   1        Houston Astros     AL  162  1458  13095.0  5797  4365   \n",
       "1     NaN   2  Washington Nationals     NL  162  1458  13014.0  5765  4338   \n",
       "2     NaN   3  Arizona Diamondbacks     NL  162  1458  13167.0  6150  4389   \n",
       "\n",
       "      A   E   DP  SB  CS  SBPCT  PB  C_WP  FPCT▼    DER  \n",
       "0  1369  63  116  60  25  0.706  15    67  0.989  0.707  \n",
       "1  1363  64  115  75  43  0.636  10    42  0.989  0.703  \n",
       "2  1686  75  152  66  27  0.710   6    69  0.988  0.699  "
      ]
     },
     "execution_count": 7,
     "metadata": {},
     "output_type": "execute_result"
    }
   ],
   "source": [
    "# Loading Fielding\n",
    "fielding_df = pd.read_csv('mlb_stats/Fielding.csv')\n",
    "fielding_df.head(3)"
   ]
  },
  {
   "cell_type": "code",
   "execution_count": 8,
   "metadata": {},
   "outputs": [
    {
     "data": {
      "text/html": [
       "<div>\n",
       "<style scoped>\n",
       "    .dataframe tbody tr th:only-of-type {\n",
       "        vertical-align: middle;\n",
       "    }\n",
       "\n",
       "    .dataframe tbody tr th {\n",
       "        vertical-align: top;\n",
       "    }\n",
       "\n",
       "    .dataframe thead th {\n",
       "        text-align: right;\n",
       "    }\n",
       "</style>\n",
       "<table border=\"1\" class=\"dataframe\">\n",
       "  <thead>\n",
       "    <tr style=\"text-align: right;\">\n",
       "      <th></th>\n",
       "      <th>Year</th>\n",
       "      <th>RK</th>\n",
       "      <th>Team</th>\n",
       "      <th>League</th>\n",
       "      <th>G</th>\n",
       "      <th>GS</th>\n",
       "      <th>INN</th>\n",
       "      <th>TC</th>\n",
       "      <th>PO</th>\n",
       "      <th>A</th>\n",
       "      <th>E</th>\n",
       "      <th>DP</th>\n",
       "      <th>SB</th>\n",
       "      <th>CS</th>\n",
       "      <th>SBPCT</th>\n",
       "      <th>PB</th>\n",
       "      <th>C_WP</th>\n",
       "      <th>FPCT▼</th>\n",
       "      <th>DER</th>\n",
       "    </tr>\n",
       "  </thead>\n",
       "  <tbody>\n",
       "    <tr>\n",
       "      <th>0</th>\n",
       "      <td>2018.0</td>\n",
       "      <td>1</td>\n",
       "      <td>Houston Astros</td>\n",
       "      <td>AL</td>\n",
       "      <td>162</td>\n",
       "      <td>1458</td>\n",
       "      <td>13095.0</td>\n",
       "      <td>5797</td>\n",
       "      <td>4365</td>\n",
       "      <td>1369</td>\n",
       "      <td>63</td>\n",
       "      <td>116</td>\n",
       "      <td>60</td>\n",
       "      <td>25</td>\n",
       "      <td>0.706</td>\n",
       "      <td>15</td>\n",
       "      <td>67</td>\n",
       "      <td>0.989</td>\n",
       "      <td>0.707</td>\n",
       "    </tr>\n",
       "    <tr>\n",
       "      <th>1</th>\n",
       "      <td>2018.0</td>\n",
       "      <td>2</td>\n",
       "      <td>Washington Nationals</td>\n",
       "      <td>NL</td>\n",
       "      <td>162</td>\n",
       "      <td>1458</td>\n",
       "      <td>13014.0</td>\n",
       "      <td>5765</td>\n",
       "      <td>4338</td>\n",
       "      <td>1363</td>\n",
       "      <td>64</td>\n",
       "      <td>115</td>\n",
       "      <td>75</td>\n",
       "      <td>43</td>\n",
       "      <td>0.636</td>\n",
       "      <td>10</td>\n",
       "      <td>42</td>\n",
       "      <td>0.989</td>\n",
       "      <td>0.703</td>\n",
       "    </tr>\n",
       "    <tr>\n",
       "      <th>2</th>\n",
       "      <td>2018.0</td>\n",
       "      <td>3</td>\n",
       "      <td>Arizona Diamondbacks</td>\n",
       "      <td>NL</td>\n",
       "      <td>162</td>\n",
       "      <td>1458</td>\n",
       "      <td>13167.0</td>\n",
       "      <td>6150</td>\n",
       "      <td>4389</td>\n",
       "      <td>1686</td>\n",
       "      <td>75</td>\n",
       "      <td>152</td>\n",
       "      <td>66</td>\n",
       "      <td>27</td>\n",
       "      <td>0.710</td>\n",
       "      <td>6</td>\n",
       "      <td>69</td>\n",
       "      <td>0.988</td>\n",
       "      <td>0.699</td>\n",
       "    </tr>\n",
       "  </tbody>\n",
       "</table>\n",
       "</div>"
      ],
      "text/plain": [
       "     Year  RK                  Team League    G    GS      INN    TC    PO  \\\n",
       "0  2018.0   1        Houston Astros     AL  162  1458  13095.0  5797  4365   \n",
       "1  2018.0   2  Washington Nationals     NL  162  1458  13014.0  5765  4338   \n",
       "2  2018.0   3  Arizona Diamondbacks     NL  162  1458  13167.0  6150  4389   \n",
       "\n",
       "      A   E   DP  SB  CS  SBPCT  PB  C_WP  FPCT▼    DER  \n",
       "0  1369  63  116  60  25  0.706  15    67  0.989  0.707  \n",
       "1  1363  64  115  75  43  0.636  10    42  0.989  0.703  \n",
       "2  1686  75  152  66  27  0.710   6    69  0.988  0.699  "
      ]
     },
     "execution_count": 8,
     "metadata": {},
     "output_type": "execute_result"
    }
   ],
   "source": [
    "# Cleaning Fielding\n",
    "set_year(fielding_df)\n",
    "fielding_df.head(3)"
   ]
  },
  {
   "cell_type": "code",
   "execution_count": 9,
   "metadata": {},
   "outputs": [],
   "source": [
    "# Make a single data frame with join method\n",
    "# temp_df = hitting_df.join(pitching_df, on=['Year', 'Team'], how=\"left\")\n",
    "temp_df = pd.merge(hitting_df, pitching_df, how='left', on=['Year', 'Team'])"
   ]
  },
  {
   "cell_type": "code",
   "execution_count": 10,
   "metadata": {},
   "outputs": [
    {
     "data": {
      "text/html": [
       "<div>\n",
       "<style scoped>\n",
       "    .dataframe tbody tr th:only-of-type {\n",
       "        vertical-align: middle;\n",
       "    }\n",
       "\n",
       "    .dataframe tbody tr th {\n",
       "        vertical-align: top;\n",
       "    }\n",
       "\n",
       "    .dataframe thead th {\n",
       "        text-align: right;\n",
       "    }\n",
       "</style>\n",
       "<table border=\"1\" class=\"dataframe\">\n",
       "  <thead>\n",
       "    <tr style=\"text-align: right;\">\n",
       "      <th></th>\n",
       "      <th>Year</th>\n",
       "      <th>RK_x</th>\n",
       "      <th>Team</th>\n",
       "      <th>League_x</th>\n",
       "      <th>G_x</th>\n",
       "      <th>AB</th>\n",
       "      <th>R_x</th>\n",
       "      <th>H_x</th>\n",
       "      <th>2B</th>\n",
       "      <th>3B</th>\n",
       "      <th>...</th>\n",
       "      <th>SVO</th>\n",
       "      <th>IP</th>\n",
       "      <th>H_y</th>\n",
       "      <th>R_y</th>\n",
       "      <th>ER</th>\n",
       "      <th>HR_y</th>\n",
       "      <th>BB_y</th>\n",
       "      <th>SO_y</th>\n",
       "      <th>AVG▼_y</th>\n",
       "      <th>WHIP</th>\n",
       "    </tr>\n",
       "  </thead>\n",
       "  <tbody>\n",
       "    <tr>\n",
       "      <th>0</th>\n",
       "      <td>2018.0</td>\n",
       "      <td>1</td>\n",
       "      <td>Boston Red Sox</td>\n",
       "      <td>AL</td>\n",
       "      <td>162</td>\n",
       "      <td>5623</td>\n",
       "      <td>876</td>\n",
       "      <td>1509</td>\n",
       "      <td>355</td>\n",
       "      <td>31</td>\n",
       "      <td>...</td>\n",
       "      <td>66</td>\n",
       "      <td>1458.2</td>\n",
       "      <td>1305</td>\n",
       "      <td>647</td>\n",
       "      <td>608</td>\n",
       "      <td>176</td>\n",
       "      <td>512</td>\n",
       "      <td>1558</td>\n",
       "      <td>0.237</td>\n",
       "      <td>1.25</td>\n",
       "    </tr>\n",
       "    <tr>\n",
       "      <th>1</th>\n",
       "      <td>2018.0</td>\n",
       "      <td>2</td>\n",
       "      <td>Cleveland Indians</td>\n",
       "      <td>AL</td>\n",
       "      <td>162</td>\n",
       "      <td>5595</td>\n",
       "      <td>818</td>\n",
       "      <td>1447</td>\n",
       "      <td>297</td>\n",
       "      <td>19</td>\n",
       "      <td>...</td>\n",
       "      <td>58</td>\n",
       "      <td>1457.1</td>\n",
       "      <td>1349</td>\n",
       "      <td>648</td>\n",
       "      <td>611</td>\n",
       "      <td>200</td>\n",
       "      <td>407</td>\n",
       "      <td>1544</td>\n",
       "      <td>0.242</td>\n",
       "      <td>1.20</td>\n",
       "    </tr>\n",
       "    <tr>\n",
       "      <th>2</th>\n",
       "      <td>2018.0</td>\n",
       "      <td>3</td>\n",
       "      <td>Tampa Bay Rays</td>\n",
       "      <td>AL</td>\n",
       "      <td>162</td>\n",
       "      <td>5475</td>\n",
       "      <td>716</td>\n",
       "      <td>1415</td>\n",
       "      <td>274</td>\n",
       "      <td>43</td>\n",
       "      <td>...</td>\n",
       "      <td>74</td>\n",
       "      <td>1448.1</td>\n",
       "      <td>1236</td>\n",
       "      <td>646</td>\n",
       "      <td>602</td>\n",
       "      <td>164</td>\n",
       "      <td>501</td>\n",
       "      <td>1421</td>\n",
       "      <td>0.230</td>\n",
       "      <td>1.20</td>\n",
       "    </tr>\n",
       "    <tr>\n",
       "      <th>3</th>\n",
       "      <td>2018.0</td>\n",
       "      <td>4</td>\n",
       "      <td>Chicago Cubs</td>\n",
       "      <td>NL</td>\n",
       "      <td>163</td>\n",
       "      <td>5624</td>\n",
       "      <td>761</td>\n",
       "      <td>1453</td>\n",
       "      <td>286</td>\n",
       "      <td>34</td>\n",
       "      <td>...</td>\n",
       "      <td>65</td>\n",
       "      <td>1476.1</td>\n",
       "      <td>1319</td>\n",
       "      <td>645</td>\n",
       "      <td>598</td>\n",
       "      <td>157</td>\n",
       "      <td>622</td>\n",
       "      <td>1333</td>\n",
       "      <td>0.240</td>\n",
       "      <td>1.31</td>\n",
       "    </tr>\n",
       "    <tr>\n",
       "      <th>4</th>\n",
       "      <td>2018.0</td>\n",
       "      <td>5</td>\n",
       "      <td>Atlanta Braves</td>\n",
       "      <td>NL</td>\n",
       "      <td>162</td>\n",
       "      <td>5582</td>\n",
       "      <td>759</td>\n",
       "      <td>1433</td>\n",
       "      <td>314</td>\n",
       "      <td>29</td>\n",
       "      <td>...</td>\n",
       "      <td>60</td>\n",
       "      <td>1456.2</td>\n",
       "      <td>1236</td>\n",
       "      <td>657</td>\n",
       "      <td>607</td>\n",
       "      <td>153</td>\n",
       "      <td>635</td>\n",
       "      <td>1423</td>\n",
       "      <td>0.229</td>\n",
       "      <td>1.28</td>\n",
       "    </tr>\n",
       "  </tbody>\n",
       "</table>\n",
       "<p>5 rows × 38 columns</p>\n",
       "</div>"
      ],
      "text/plain": [
       "     Year  RK_x               Team League_x  G_x    AB  R_x   H_x   2B  3B  \\\n",
       "0  2018.0     1     Boston Red Sox       AL  162  5623  876  1509  355  31   \n",
       "1  2018.0     2  Cleveland Indians       AL  162  5595  818  1447  297  19   \n",
       "2  2018.0     3     Tampa Bay Rays       AL  162  5475  716  1415  274  43   \n",
       "3  2018.0     4       Chicago Cubs       NL  163  5624  761  1453  286  34   \n",
       "4  2018.0     5     Atlanta Braves       NL  162  5582  759  1433  314  29   \n",
       "\n",
       "   ...  SVO      IP   H_y  R_y   ER  HR_y  BB_y  SO_y  AVG▼_y  WHIP  \n",
       "0  ...   66  1458.2  1305  647  608   176   512  1558   0.237  1.25  \n",
       "1  ...   58  1457.1  1349  648  611   200   407  1544   0.242  1.20  \n",
       "2  ...   74  1448.1  1236  646  602   164   501  1421   0.230  1.20  \n",
       "3  ...   65  1476.1  1319  645  598   157   622  1333   0.240  1.31  \n",
       "4  ...   60  1456.2  1236  657  607   153   635  1423   0.229  1.28  \n",
       "\n",
       "[5 rows x 38 columns]"
      ]
     },
     "execution_count": 10,
     "metadata": {},
     "output_type": "execute_result"
    }
   ],
   "source": [
    "temp_df.head()"
   ]
  },
  {
   "cell_type": "code",
   "execution_count": 11,
   "metadata": {},
   "outputs": [],
   "source": [
    "df = pd.merge(temp_df, fielding_df, how='left', on=['Year', 'Team'])"
   ]
  },
  {
   "cell_type": "code",
   "execution_count": 12,
   "metadata": {},
   "outputs": [
    {
     "data": {
      "text/html": [
       "<div>\n",
       "<style scoped>\n",
       "    .dataframe tbody tr th:only-of-type {\n",
       "        vertical-align: middle;\n",
       "    }\n",
       "\n",
       "    .dataframe tbody tr th {\n",
       "        vertical-align: top;\n",
       "    }\n",
       "\n",
       "    .dataframe thead th {\n",
       "        text-align: right;\n",
       "    }\n",
       "</style>\n",
       "<table border=\"1\" class=\"dataframe\">\n",
       "  <thead>\n",
       "    <tr style=\"text-align: right;\">\n",
       "      <th></th>\n",
       "      <th>Year</th>\n",
       "      <th>RK_x</th>\n",
       "      <th>Team</th>\n",
       "      <th>League_x</th>\n",
       "      <th>G_x</th>\n",
       "      <th>AB</th>\n",
       "      <th>R_x</th>\n",
       "      <th>H_x</th>\n",
       "      <th>2B</th>\n",
       "      <th>3B</th>\n",
       "      <th>...</th>\n",
       "      <th>A</th>\n",
       "      <th>E</th>\n",
       "      <th>DP</th>\n",
       "      <th>SB_y</th>\n",
       "      <th>CS_y</th>\n",
       "      <th>SBPCT</th>\n",
       "      <th>PB</th>\n",
       "      <th>C_WP</th>\n",
       "      <th>FPCT▼</th>\n",
       "      <th>DER</th>\n",
       "    </tr>\n",
       "  </thead>\n",
       "  <tbody>\n",
       "    <tr>\n",
       "      <th>0</th>\n",
       "      <td>2018.0</td>\n",
       "      <td>1</td>\n",
       "      <td>Boston Red Sox</td>\n",
       "      <td>AL</td>\n",
       "      <td>162</td>\n",
       "      <td>5623</td>\n",
       "      <td>876</td>\n",
       "      <td>1509</td>\n",
       "      <td>355</td>\n",
       "      <td>31</td>\n",
       "      <td>...</td>\n",
       "      <td>1366</td>\n",
       "      <td>77</td>\n",
       "      <td>106</td>\n",
       "      <td>64</td>\n",
       "      <td>30</td>\n",
       "      <td>0.681</td>\n",
       "      <td>25</td>\n",
       "      <td>51</td>\n",
       "      <td>0.987</td>\n",
       "      <td>0.694</td>\n",
       "    </tr>\n",
       "    <tr>\n",
       "      <th>1</th>\n",
       "      <td>2018.0</td>\n",
       "      <td>2</td>\n",
       "      <td>Cleveland Indians</td>\n",
       "      <td>AL</td>\n",
       "      <td>162</td>\n",
       "      <td>5595</td>\n",
       "      <td>818</td>\n",
       "      <td>1447</td>\n",
       "      <td>297</td>\n",
       "      <td>19</td>\n",
       "      <td>...</td>\n",
       "      <td>1353</td>\n",
       "      <td>83</td>\n",
       "      <td>123</td>\n",
       "      <td>81</td>\n",
       "      <td>29</td>\n",
       "      <td>0.736</td>\n",
       "      <td>9</td>\n",
       "      <td>54</td>\n",
       "      <td>0.986</td>\n",
       "      <td>0.689</td>\n",
       "    </tr>\n",
       "    <tr>\n",
       "      <th>2</th>\n",
       "      <td>2018.0</td>\n",
       "      <td>3</td>\n",
       "      <td>Tampa Bay Rays</td>\n",
       "      <td>AL</td>\n",
       "      <td>162</td>\n",
       "      <td>5475</td>\n",
       "      <td>716</td>\n",
       "      <td>1415</td>\n",
       "      <td>274</td>\n",
       "      <td>43</td>\n",
       "      <td>...</td>\n",
       "      <td>1483</td>\n",
       "      <td>85</td>\n",
       "      <td>136</td>\n",
       "      <td>78</td>\n",
       "      <td>27</td>\n",
       "      <td>0.743</td>\n",
       "      <td>17</td>\n",
       "      <td>55</td>\n",
       "      <td>0.986</td>\n",
       "      <td>0.709</td>\n",
       "    </tr>\n",
       "    <tr>\n",
       "      <th>3</th>\n",
       "      <td>2018.0</td>\n",
       "      <td>4</td>\n",
       "      <td>Chicago Cubs</td>\n",
       "      <td>NL</td>\n",
       "      <td>163</td>\n",
       "      <td>5624</td>\n",
       "      <td>761</td>\n",
       "      <td>1453</td>\n",
       "      <td>286</td>\n",
       "      <td>34</td>\n",
       "      <td>...</td>\n",
       "      <td>1675</td>\n",
       "      <td>104</td>\n",
       "      <td>155</td>\n",
       "      <td>84</td>\n",
       "      <td>40</td>\n",
       "      <td>0.677</td>\n",
       "      <td>12</td>\n",
       "      <td>46</td>\n",
       "      <td>0.983</td>\n",
       "      <td>0.702</td>\n",
       "    </tr>\n",
       "    <tr>\n",
       "      <th>4</th>\n",
       "      <td>2018.0</td>\n",
       "      <td>5</td>\n",
       "      <td>Atlanta Braves</td>\n",
       "      <td>NL</td>\n",
       "      <td>162</td>\n",
       "      <td>5582</td>\n",
       "      <td>759</td>\n",
       "      <td>1433</td>\n",
       "      <td>314</td>\n",
       "      <td>29</td>\n",
       "      <td>...</td>\n",
       "      <td>1439</td>\n",
       "      <td>80</td>\n",
       "      <td>134</td>\n",
       "      <td>102</td>\n",
       "      <td>28</td>\n",
       "      <td>0.785</td>\n",
       "      <td>13</td>\n",
       "      <td>61</td>\n",
       "      <td>0.986</td>\n",
       "      <td>0.710</td>\n",
       "    </tr>\n",
       "  </tbody>\n",
       "</table>\n",
       "<p>5 rows × 55 columns</p>\n",
       "</div>"
      ],
      "text/plain": [
       "     Year  RK_x               Team League_x  G_x    AB  R_x   H_x   2B  3B  \\\n",
       "0  2018.0     1     Boston Red Sox       AL  162  5623  876  1509  355  31   \n",
       "1  2018.0     2  Cleveland Indians       AL  162  5595  818  1447  297  19   \n",
       "2  2018.0     3     Tampa Bay Rays       AL  162  5475  716  1415  274  43   \n",
       "3  2018.0     4       Chicago Cubs       NL  163  5624  761  1453  286  34   \n",
       "4  2018.0     5     Atlanta Braves       NL  162  5582  759  1433  314  29   \n",
       "\n",
       "   ...     A    E   DP  SB_y  CS_y  SBPCT  PB  C_WP  FPCT▼    DER  \n",
       "0  ...  1366   77  106    64    30  0.681  25    51  0.987  0.694  \n",
       "1  ...  1353   83  123    81    29  0.736   9    54  0.986  0.689  \n",
       "2  ...  1483   85  136    78    27  0.743  17    55  0.986  0.709  \n",
       "3  ...  1675  104  155    84    40  0.677  12    46  0.983  0.702  \n",
       "4  ...  1439   80  134   102    28  0.785  13    61  0.986  0.710  \n",
       "\n",
       "[5 rows x 55 columns]"
      ]
     },
     "execution_count": 12,
     "metadata": {},
     "output_type": "execute_result"
    }
   ],
   "source": [
    "df.head()"
   ]
  },
  {
   "cell_type": "markdown",
   "metadata": {},
   "source": [
    "#### Get rank by year from MLB api"
   ]
  },
  {
   "cell_type": "code",
   "execution_count": 13,
   "metadata": {},
   "outputs": [
    {
     "name": "stdout",
     "output_type": "stream",
     "text": [
      "American League East\n",
      "Rank Team                   W   L   GB  (E#) WC Rank WC GB (E#)\n",
      " 1   Boston Red Sox        108 54   -    -      -      -    E  \n",
      " 2   New York Yankees      100 62  8.0   E      1    +3.0   -  \n",
      " 3   Tampa Bay Rays        90  72  18.0  E      3     7.0   E  \n",
      " 4   Toronto Blue Jays     73  89  35.0  E      7    24.0   E  \n",
      " 5   Baltimore Orioles     47  115 61.0  E     12    50.0   E  \n",
      "\n",
      "American League West\n",
      "Rank Team                   W   L   GB  (E#) WC Rank WC GB (E#)\n",
      " 1   Houston Astros        103 59   -    -      -      -    E  \n",
      " 2   Oakland Athletics     97  65  6.0   E      2      -    -  \n",
      " 3   Seattle Mariners      89  73  14.0  E      4     8.0   E  \n",
      " 4   Los Angeles Angels    80  82  23.0  E      5    17.0   E  \n",
      " 5   Texas Rangers         67  95  36.0  E      8    30.0   E  \n",
      "\n",
      "American League Central\n",
      "Rank Team                   W   L   GB  (E#) WC Rank WC GB (E#)\n",
      " 1   Cleveland Indians     91  71   -    -      -      -    E  \n",
      " 2   Minnesota Twins       78  84  13.0  E      6    19.0   E  \n",
      " 3   Detroit Tigers        64  98  27.0  E      9    33.0   E  \n",
      " 4   Chicago White Sox     62  100 29.0  E     10    35.0   E  \n",
      " 5   Kansas City Royals    58  104 33.0  E     11    39.0   E  \n",
      "\n",
      "National League Central\n",
      "Rank Team                   W   L   GB  (E#) WC Rank WC GB (E#)\n",
      " 1   Milwaukee Brewers     96  67   -    -      -      -    E  \n",
      " 2   Chicago Cubs          95  68  1.0   E      1    +4.0   -  \n",
      " 3   St. Louis Cardinals   88  74  7.5   E      3     2.5   E  \n",
      " 4   Pittsburgh Pirates    82  79  13.0  E      4     8.0   E  \n",
      " 5   Cincinnati Reds       67  95  28.5  E     10    23.5   E  \n",
      "\n",
      "National League West\n",
      "Rank Team                   W   L   GB  (E#) WC Rank WC GB (E#)\n",
      " 1   Los Angeles Dodgers   92  71   -    -      -      -    E  \n",
      " 2   Colorado Rockies      91  72  1.0   E      2      -    -  \n",
      " 3   Arizona Diamondbacks  82  80  9.5   E      5     8.5   E  \n",
      " 4   San Francisco Giants  73  89  18.5  E      9    17.5   E  \n",
      " 5   San Diego Padres      66  96  25.5  E     11    24.5   E  \n",
      "\n",
      "National League East\n",
      "Rank Team                   W   L   GB  (E#) WC Rank WC GB (E#)\n",
      " 1   Atlanta Braves        90  72   -    -      -      -    E  \n",
      " 2   Washington Nationals  82  80  8.0   E      6     8.5   E  \n",
      " 3   Philadelphia Phillies 80  82  10.0  E      7    10.5   E  \n",
      " 4   New York Mets         77  85  13.0  E      8    13.5   E  \n",
      " 5   Miami Marlins         63  98  26.5  E     12    27.0   E  \n",
      "\n",
      "\n"
     ]
    }
   ],
   "source": [
    "# get stading from mlb api\n",
    "standing_2018 = mlb.standings(season=2018, standingsTypes='byLeague')\n",
    "print(standing_2018)"
   ]
  },
  {
   "cell_type": "code",
   "execution_count": 14,
   "metadata": {},
   "outputs": [],
   "source": [
    "# Set the rank for dataframe with mlb api standings\n",
    "prev_year = ''\n",
    "for i, row in df.iterrows():\n",
    "    year = row['Year']\n",
    "    team = row['Team']\n",
    "    \n",
    "    # get standings by calling the mlb API\n",
    "    if prev_year != year:\n",
    "        standings = mlb.standings(season=year).split('\\n')\n",
    "    prev_year = year\n",
    "\n",
    "    for standing in standings:\n",
    "        if standing.find(team) != -1:\n",
    "            # Found the team and\n",
    "            if '1' in standing.split(' '):\n",
    "                # if contains '1' means division winner or WC winner\n",
    "                df.loc[i, 'Playoff'] = 1\n",
    "#                 print(f'{team} {year} advanced to playoff')\n",
    "            else:\n",
    "                df.loc[i, 'Playoff'] = 0                \n",
    "#                 print(f'{team} {year} failed to advance playoff')\n",
    "            continue\n",
    "#     else:\n",
    "#         # If team does not found on the standings from MLB API\n",
    "#         # Assume it, failed to playoff\n",
    "#         print(f'{team} {year} is not on the list !!!')\n",
    "#         df.loc[i, 'Playoff'] = 0"
   ]
  },
  {
   "cell_type": "code",
   "execution_count": 15,
   "metadata": {},
   "outputs": [
    {
     "data": {
      "text/plain": [
       "array([1., 0.])"
      ]
     },
     "execution_count": 15,
     "metadata": {},
     "output_type": "execute_result"
    }
   ],
   "source": [
    "# Check new values\n",
    "df['Playoff'].unique()"
   ]
  },
  {
   "cell_type": "code",
   "execution_count": 16,
   "metadata": {},
   "outputs": [
    {
     "data": {
      "text/html": [
       "<div>\n",
       "<style scoped>\n",
       "    .dataframe tbody tr th:only-of-type {\n",
       "        vertical-align: middle;\n",
       "    }\n",
       "\n",
       "    .dataframe tbody tr th {\n",
       "        vertical-align: top;\n",
       "    }\n",
       "\n",
       "    .dataframe thead th {\n",
       "        text-align: right;\n",
       "    }\n",
       "</style>\n",
       "<table border=\"1\" class=\"dataframe\">\n",
       "  <thead>\n",
       "    <tr style=\"text-align: right;\">\n",
       "      <th></th>\n",
       "      <th>Year</th>\n",
       "      <th>RK_x</th>\n",
       "      <th>Team</th>\n",
       "      <th>League_x</th>\n",
       "      <th>G_x</th>\n",
       "      <th>AB</th>\n",
       "      <th>R_x</th>\n",
       "      <th>H_x</th>\n",
       "      <th>2B</th>\n",
       "      <th>3B</th>\n",
       "      <th>...</th>\n",
       "      <th>E</th>\n",
       "      <th>DP</th>\n",
       "      <th>SB_y</th>\n",
       "      <th>CS_y</th>\n",
       "      <th>SBPCT</th>\n",
       "      <th>PB</th>\n",
       "      <th>C_WP</th>\n",
       "      <th>FPCT▼</th>\n",
       "      <th>DER</th>\n",
       "      <th>Playoff</th>\n",
       "    </tr>\n",
       "  </thead>\n",
       "  <tbody>\n",
       "    <tr>\n",
       "      <th>0</th>\n",
       "      <td>2018.0</td>\n",
       "      <td>1</td>\n",
       "      <td>Boston Red Sox</td>\n",
       "      <td>AL</td>\n",
       "      <td>162</td>\n",
       "      <td>5623</td>\n",
       "      <td>876</td>\n",
       "      <td>1509</td>\n",
       "      <td>355</td>\n",
       "      <td>31</td>\n",
       "      <td>...</td>\n",
       "      <td>77</td>\n",
       "      <td>106</td>\n",
       "      <td>64</td>\n",
       "      <td>30</td>\n",
       "      <td>0.681</td>\n",
       "      <td>25</td>\n",
       "      <td>51</td>\n",
       "      <td>0.987</td>\n",
       "      <td>0.694</td>\n",
       "      <td>1.0</td>\n",
       "    </tr>\n",
       "    <tr>\n",
       "      <th>1</th>\n",
       "      <td>2018.0</td>\n",
       "      <td>2</td>\n",
       "      <td>Cleveland Indians</td>\n",
       "      <td>AL</td>\n",
       "      <td>162</td>\n",
       "      <td>5595</td>\n",
       "      <td>818</td>\n",
       "      <td>1447</td>\n",
       "      <td>297</td>\n",
       "      <td>19</td>\n",
       "      <td>...</td>\n",
       "      <td>83</td>\n",
       "      <td>123</td>\n",
       "      <td>81</td>\n",
       "      <td>29</td>\n",
       "      <td>0.736</td>\n",
       "      <td>9</td>\n",
       "      <td>54</td>\n",
       "      <td>0.986</td>\n",
       "      <td>0.689</td>\n",
       "      <td>1.0</td>\n",
       "    </tr>\n",
       "    <tr>\n",
       "      <th>2</th>\n",
       "      <td>2018.0</td>\n",
       "      <td>3</td>\n",
       "      <td>Tampa Bay Rays</td>\n",
       "      <td>AL</td>\n",
       "      <td>162</td>\n",
       "      <td>5475</td>\n",
       "      <td>716</td>\n",
       "      <td>1415</td>\n",
       "      <td>274</td>\n",
       "      <td>43</td>\n",
       "      <td>...</td>\n",
       "      <td>85</td>\n",
       "      <td>136</td>\n",
       "      <td>78</td>\n",
       "      <td>27</td>\n",
       "      <td>0.743</td>\n",
       "      <td>17</td>\n",
       "      <td>55</td>\n",
       "      <td>0.986</td>\n",
       "      <td>0.709</td>\n",
       "      <td>0.0</td>\n",
       "    </tr>\n",
       "    <tr>\n",
       "      <th>3</th>\n",
       "      <td>2018.0</td>\n",
       "      <td>4</td>\n",
       "      <td>Chicago Cubs</td>\n",
       "      <td>NL</td>\n",
       "      <td>163</td>\n",
       "      <td>5624</td>\n",
       "      <td>761</td>\n",
       "      <td>1453</td>\n",
       "      <td>286</td>\n",
       "      <td>34</td>\n",
       "      <td>...</td>\n",
       "      <td>104</td>\n",
       "      <td>155</td>\n",
       "      <td>84</td>\n",
       "      <td>40</td>\n",
       "      <td>0.677</td>\n",
       "      <td>12</td>\n",
       "      <td>46</td>\n",
       "      <td>0.983</td>\n",
       "      <td>0.702</td>\n",
       "      <td>1.0</td>\n",
       "    </tr>\n",
       "    <tr>\n",
       "      <th>4</th>\n",
       "      <td>2018.0</td>\n",
       "      <td>5</td>\n",
       "      <td>Atlanta Braves</td>\n",
       "      <td>NL</td>\n",
       "      <td>162</td>\n",
       "      <td>5582</td>\n",
       "      <td>759</td>\n",
       "      <td>1433</td>\n",
       "      <td>314</td>\n",
       "      <td>29</td>\n",
       "      <td>...</td>\n",
       "      <td>80</td>\n",
       "      <td>134</td>\n",
       "      <td>102</td>\n",
       "      <td>28</td>\n",
       "      <td>0.785</td>\n",
       "      <td>13</td>\n",
       "      <td>61</td>\n",
       "      <td>0.986</td>\n",
       "      <td>0.710</td>\n",
       "      <td>1.0</td>\n",
       "    </tr>\n",
       "  </tbody>\n",
       "</table>\n",
       "<p>5 rows × 56 columns</p>\n",
       "</div>"
      ],
      "text/plain": [
       "     Year  RK_x               Team League_x  G_x    AB  R_x   H_x   2B  3B  \\\n",
       "0  2018.0     1     Boston Red Sox       AL  162  5623  876  1509  355  31   \n",
       "1  2018.0     2  Cleveland Indians       AL  162  5595  818  1447  297  19   \n",
       "2  2018.0     3     Tampa Bay Rays       AL  162  5475  716  1415  274  43   \n",
       "3  2018.0     4       Chicago Cubs       NL  163  5624  761  1453  286  34   \n",
       "4  2018.0     5     Atlanta Braves       NL  162  5582  759  1433  314  29   \n",
       "\n",
       "   ...    E   DP  SB_y  CS_y  SBPCT  PB  C_WP  FPCT▼    DER  Playoff  \n",
       "0  ...   77  106    64    30  0.681  25    51  0.987  0.694      1.0  \n",
       "1  ...   83  123    81    29  0.736   9    54  0.986  0.689      1.0  \n",
       "2  ...   85  136    78    27  0.743  17    55  0.986  0.709      0.0  \n",
       "3  ...  104  155    84    40  0.677  12    46  0.983  0.702      1.0  \n",
       "4  ...   80  134   102    28  0.785  13    61  0.986  0.710      1.0  \n",
       "\n",
       "[5 rows x 56 columns]"
      ]
     },
     "execution_count": 16,
     "metadata": {},
     "output_type": "execute_result"
    }
   ],
   "source": [
    "df.head()"
   ]
  },
  {
   "cell_type": "code",
   "execution_count": 21,
   "metadata": {},
   "outputs": [],
   "source": [
    "# Save to CSV file\n",
    "df.to_csv('mlb_stats/mlb_standing.csv')"
   ]
  },
  {
   "cell_type": "code",
   "execution_count": 22,
   "metadata": {},
   "outputs": [],
   "source": [
    "df = pd.read_csv('mlb_stats/mlb_stading.csv')"
   ]
  },
  {
   "cell_type": "markdown",
   "metadata": {},
   "source": [
    "## Data Understanding"
   ]
  },
  {
   "cell_type": "code",
   "execution_count": 23,
   "metadata": {},
   "outputs": [],
   "source": [
    "# Set seaborn style\n",
    "sns.set_style('whitegrid')"
   ]
  },
  {
   "cell_type": "markdown",
   "metadata": {},
   "source": [
    "### Constrain about data\n",
    "\n",
    "Most variable in data set is a result value from whole season(162 games), but in terms of predict the odds of playoff,    \n",
    "it means the season is not over yet. \n",
    "The number of hits, runs, homeruns could be less than at the end of season.    \n",
    "\n",
    "First of all, let's start with variables from **ratio**.  \n",
    "\n",
    "We could use.  \n",
    "- AVG▼_x : Batting Average\n",
    "- OPS : On base Plus Slugging\n",
    "- ERA : Earned Run Average\n",
    "- WHIP : Walks plus Hits divided by Innings Pitched\n",
    "- FPCT▼ : Fielding PerCenTage\n",
    "- DEF : Defense Efficiency Ratio (1 - ((H + ROE - HR) / (PA - BB - SO - HBP - HR)))"
   ]
  },
  {
   "cell_type": "code",
   "execution_count": 24,
   "metadata": {},
   "outputs": [],
   "source": [
    "# Set features with Batting AVG, OPS, ERA, Pitching AVG, WHIP, FPCT, DER\n",
    "features = ['AVG▼_x', 'OPS' , 'ERA', 'WHIP', 'FPCT▼', 'DER']"
   ]
  },
  {
   "cell_type": "code",
   "execution_count": 25,
   "metadata": {},
   "outputs": [
    {
     "data": {
      "text/html": [
       "<div>\n",
       "<style scoped>\n",
       "    .dataframe tbody tr th:only-of-type {\n",
       "        vertical-align: middle;\n",
       "    }\n",
       "\n",
       "    .dataframe tbody tr th {\n",
       "        vertical-align: top;\n",
       "    }\n",
       "\n",
       "    .dataframe thead th {\n",
       "        text-align: right;\n",
       "    }\n",
       "</style>\n",
       "<table border=\"1\" class=\"dataframe\">\n",
       "  <thead>\n",
       "    <tr style=\"text-align: right;\">\n",
       "      <th></th>\n",
       "      <th>AVG▼_x</th>\n",
       "      <th>OPS</th>\n",
       "      <th>ERA</th>\n",
       "      <th>WHIP</th>\n",
       "      <th>FPCT▼</th>\n",
       "      <th>DER</th>\n",
       "    </tr>\n",
       "  </thead>\n",
       "  <tbody>\n",
       "    <tr>\n",
       "      <th>count</th>\n",
       "      <td>152.000000</td>\n",
       "      <td>152.000000</td>\n",
       "      <td>152.000000</td>\n",
       "      <td>152.000000</td>\n",
       "      <td>152.000000</td>\n",
       "      <td>152.000000</td>\n",
       "    </tr>\n",
       "    <tr>\n",
       "      <th>mean</th>\n",
       "      <td>0.265368</td>\n",
       "      <td>0.765901</td>\n",
       "      <td>3.857829</td>\n",
       "      <td>1.293684</td>\n",
       "      <td>0.984237</td>\n",
       "      <td>0.696421</td>\n",
       "    </tr>\n",
       "    <tr>\n",
       "      <th>std</th>\n",
       "      <td>0.011196</td>\n",
       "      <td>0.032390</td>\n",
       "      <td>0.389936</td>\n",
       "      <td>0.071675</td>\n",
       "      <td>0.002272</td>\n",
       "      <td>0.010318</td>\n",
       "    </tr>\n",
       "    <tr>\n",
       "      <th>min</th>\n",
       "      <td>0.238000</td>\n",
       "      <td>0.689000</td>\n",
       "      <td>2.940000</td>\n",
       "      <td>1.100000</td>\n",
       "      <td>0.978000</td>\n",
       "      <td>0.672000</td>\n",
       "    </tr>\n",
       "    <tr>\n",
       "      <th>25%</th>\n",
       "      <td>0.257000</td>\n",
       "      <td>0.739750</td>\n",
       "      <td>3.590000</td>\n",
       "      <td>1.240000</td>\n",
       "      <td>0.983000</td>\n",
       "      <td>0.689000</td>\n",
       "    </tr>\n",
       "    <tr>\n",
       "      <th>50%</th>\n",
       "      <td>0.265000</td>\n",
       "      <td>0.767000</td>\n",
       "      <td>3.835000</td>\n",
       "      <td>1.290000</td>\n",
       "      <td>0.984000</td>\n",
       "      <td>0.695500</td>\n",
       "    </tr>\n",
       "    <tr>\n",
       "      <th>75%</th>\n",
       "      <td>0.273000</td>\n",
       "      <td>0.786000</td>\n",
       "      <td>4.105000</td>\n",
       "      <td>1.332500</td>\n",
       "      <td>0.986000</td>\n",
       "      <td>0.703250</td>\n",
       "    </tr>\n",
       "    <tr>\n",
       "      <th>max</th>\n",
       "      <td>0.290000</td>\n",
       "      <td>0.851000</td>\n",
       "      <td>4.760000</td>\n",
       "      <td>1.500000</td>\n",
       "      <td>0.989000</td>\n",
       "      <td>0.731000</td>\n",
       "    </tr>\n",
       "  </tbody>\n",
       "</table>\n",
       "</div>"
      ],
      "text/plain": [
       "           AVG▼_x         OPS         ERA        WHIP       FPCT▼         DER\n",
       "count  152.000000  152.000000  152.000000  152.000000  152.000000  152.000000\n",
       "mean     0.265368    0.765901    3.857829    1.293684    0.984237    0.696421\n",
       "std      0.011196    0.032390    0.389936    0.071675    0.002272    0.010318\n",
       "min      0.238000    0.689000    2.940000    1.100000    0.978000    0.672000\n",
       "25%      0.257000    0.739750    3.590000    1.240000    0.983000    0.689000\n",
       "50%      0.265000    0.767000    3.835000    1.290000    0.984000    0.695500\n",
       "75%      0.273000    0.786000    4.105000    1.332500    0.986000    0.703250\n",
       "max      0.290000    0.851000    4.760000    1.500000    0.989000    0.731000"
      ]
     },
     "execution_count": 25,
     "metadata": {},
     "output_type": "execute_result"
    }
   ],
   "source": [
    "# Let's check the features for advanced team\n",
    "df.loc[df['Playoff'] == 1, features].describe()"
   ]
  },
  {
   "cell_type": "code",
   "execution_count": 26,
   "metadata": {},
   "outputs": [
    {
     "data": {
      "text/html": [
       "<div>\n",
       "<style scoped>\n",
       "    .dataframe tbody tr th:only-of-type {\n",
       "        vertical-align: middle;\n",
       "    }\n",
       "\n",
       "    .dataframe tbody tr th {\n",
       "        vertical-align: top;\n",
       "    }\n",
       "\n",
       "    .dataframe thead th {\n",
       "        text-align: right;\n",
       "    }\n",
       "</style>\n",
       "<table border=\"1\" class=\"dataframe\">\n",
       "  <thead>\n",
       "    <tr style=\"text-align: right;\">\n",
       "      <th></th>\n",
       "      <th>AVG▼_x</th>\n",
       "      <th>OPS</th>\n",
       "      <th>ERA</th>\n",
       "      <th>WHIP</th>\n",
       "      <th>FPCT▼</th>\n",
       "      <th>DER</th>\n",
       "    </tr>\n",
       "  </thead>\n",
       "  <tbody>\n",
       "    <tr>\n",
       "      <th>count</th>\n",
       "      <td>570.000000</td>\n",
       "      <td>570.000000</td>\n",
       "      <td>570.000000</td>\n",
       "      <td>570.000000</td>\n",
       "      <td>570.000000</td>\n",
       "      <td>570.000000</td>\n",
       "    </tr>\n",
       "    <tr>\n",
       "      <th>mean</th>\n",
       "      <td>0.259825</td>\n",
       "      <td>0.742154</td>\n",
       "      <td>4.235070</td>\n",
       "      <td>1.357193</td>\n",
       "      <td>0.983405</td>\n",
       "      <td>0.691512</td>\n",
       "    </tr>\n",
       "    <tr>\n",
       "      <th>std</th>\n",
       "      <td>0.012099</td>\n",
       "      <td>0.038300</td>\n",
       "      <td>0.529807</td>\n",
       "      <td>0.094699</td>\n",
       "      <td>0.002638</td>\n",
       "      <td>0.010800</td>\n",
       "    </tr>\n",
       "    <tr>\n",
       "      <th>min</th>\n",
       "      <td>0.226000</td>\n",
       "      <td>0.627000</td>\n",
       "      <td>2.940000</td>\n",
       "      <td>1.100000</td>\n",
       "      <td>0.976000</td>\n",
       "      <td>0.655000</td>\n",
       "    </tr>\n",
       "    <tr>\n",
       "      <th>25%</th>\n",
       "      <td>0.251000</td>\n",
       "      <td>0.716000</td>\n",
       "      <td>3.850000</td>\n",
       "      <td>1.290000</td>\n",
       "      <td>0.982000</td>\n",
       "      <td>0.684000</td>\n",
       "    </tr>\n",
       "    <tr>\n",
       "      <th>50%</th>\n",
       "      <td>0.260000</td>\n",
       "      <td>0.741500</td>\n",
       "      <td>4.200000</td>\n",
       "      <td>1.360000</td>\n",
       "      <td>0.983000</td>\n",
       "      <td>0.692000</td>\n",
       "    </tr>\n",
       "    <tr>\n",
       "      <th>75%</th>\n",
       "      <td>0.268000</td>\n",
       "      <td>0.768750</td>\n",
       "      <td>4.597500</td>\n",
       "      <td>1.420000</td>\n",
       "      <td>0.985000</td>\n",
       "      <td>0.699000</td>\n",
       "    </tr>\n",
       "    <tr>\n",
       "      <th>max</th>\n",
       "      <td>0.294000</td>\n",
       "      <td>0.851000</td>\n",
       "      <td>5.710000</td>\n",
       "      <td>1.640000</td>\n",
       "      <td>0.991000</td>\n",
       "      <td>0.731000</td>\n",
       "    </tr>\n",
       "  </tbody>\n",
       "</table>\n",
       "</div>"
      ],
      "text/plain": [
       "           AVG▼_x         OPS         ERA        WHIP       FPCT▼         DER\n",
       "count  570.000000  570.000000  570.000000  570.000000  570.000000  570.000000\n",
       "mean     0.259825    0.742154    4.235070    1.357193    0.983405    0.691512\n",
       "std      0.012099    0.038300    0.529807    0.094699    0.002638    0.010800\n",
       "min      0.226000    0.627000    2.940000    1.100000    0.976000    0.655000\n",
       "25%      0.251000    0.716000    3.850000    1.290000    0.982000    0.684000\n",
       "50%      0.260000    0.741500    4.200000    1.360000    0.983000    0.692000\n",
       "75%      0.268000    0.768750    4.597500    1.420000    0.985000    0.699000\n",
       "max      0.294000    0.851000    5.710000    1.640000    0.991000    0.731000"
      ]
     },
     "execution_count": 26,
     "metadata": {},
     "output_type": "execute_result"
    }
   ],
   "source": [
    "# Compare with all teams\n",
    "df[features].describe()"
   ]
  },
  {
   "cell_type": "code",
   "execution_count": 27,
   "metadata": {},
   "outputs": [],
   "source": [
    "# get average stat for Playoff qualifiers to list\n",
    "playoff = df.loc[df['Playoff'] == 1, features].mean()"
   ]
  },
  {
   "cell_type": "code",
   "execution_count": 28,
   "metadata": {},
   "outputs": [],
   "source": [
    "# get average stat for All teams to list\n",
    "all = df.loc[:, features].mean()"
   ]
  },
  {
   "cell_type": "code",
   "execution_count": 29,
   "metadata": {},
   "outputs": [],
   "source": [
    "# make a DataFrame with playoff and all \n",
    "feature_df = pd.DataFrame(zip(features,playoff,all), columns=['CATE','PLAYOFF', 'ALL'])"
   ]
  },
  {
   "cell_type": "code",
   "execution_count": 30,
   "metadata": {},
   "outputs": [
    {
     "data": {
      "image/png": "[encoded data removed]",
      "text/plain": [
       "<Figure size 720x360 with 1 Axes>"
      ]
     },
     "metadata": {},
     "output_type": "display_data"
    }
   ],
   "source": [
    "fig, ax = plt.subplots(figsize=(10, 5))\n",
    "graph_df = feature_df.melt(id_vars='CATE').rename(columns=str.title)\n",
    "sns.barplot(x='Cate', y='Value', hue='Variable', data=graph_df, ax=ax)\n",
    "sns.despine(fig)\n",
    "ax.set_xlabel('Stats')\n",
    "\n",
    "ax.grid(False)\n",
    "ax.set_yticks([])\n",
    "\n",
    "fig.suptitle('Playoff Teams vs. All Teams (last 10yr)')\n",
    "\n",
    "for rect in ax.patches:\n",
    "    y_value = rect.get_height()\n",
    "    x_value = rect.get_x() + rect.get_width() / 2\n",
    "\n",
    "    label = '{:.3f}'.format(y_value)\n",
    "    plt.annotate(label, (x_value, y_value), ha='center', fontsize=10)\n",
    "plt.show()"
   ]
  },
  {
   "cell_type": "markdown",
   "metadata": {},
   "source": [
    "#### There are significant difference between to category.\n",
    "\n",
    "Let's try to make a classification model"
   ]
  },
  {
   "cell_type": "markdown",
   "metadata": {},
   "source": [
    "## Modeling"
   ]
  },
  {
   "cell_type": "markdown",
   "metadata": {},
   "source": [
    "### First model - Logistic Regression"
   ]
  },
  {
   "cell_type": "code",
   "execution_count": 31,
   "metadata": {},
   "outputs": [],
   "source": [
    "# import functions from sklearn\n",
    "from sklearn.model_selection import train_test_split\n",
    "from sklearn.preprocessing import StandardScaler\n",
    "from sklearn.pipeline import Pipeline\n",
    "from sklearn.metrics import  classification_report, confusion_matrix\n",
    "\n",
    "from sklearn.linear_model import LogisticRegression\n",
    "import itertools\n"
   ]
  },
  {
   "cell_type": "code",
   "execution_count": 32,
   "metadata": {},
   "outputs": [],
   "source": [
    "X = df[features]"
   ]
  },
  {
   "cell_type": "code",
   "execution_count": 33,
   "metadata": {},
   "outputs": [
    {
     "data": {
      "text/html": [
       "<div>\n",
       "<style scoped>\n",
       "    .dataframe tbody tr th:only-of-type {\n",
       "        vertical-align: middle;\n",
       "    }\n",
       "\n",
       "    .dataframe tbody tr th {\n",
       "        vertical-align: top;\n",
       "    }\n",
       "\n",
       "    .dataframe thead th {\n",
       "        text-align: right;\n",
       "    }\n",
       "</style>\n",
       "<table border=\"1\" class=\"dataframe\">\n",
       "  <thead>\n",
       "    <tr style=\"text-align: right;\">\n",
       "      <th></th>\n",
       "      <th>AVG▼_x</th>\n",
       "      <th>OPS</th>\n",
       "      <th>ERA</th>\n",
       "      <th>WHIP</th>\n",
       "      <th>FPCT▼</th>\n",
       "      <th>DER</th>\n",
       "    </tr>\n",
       "  </thead>\n",
       "  <tbody>\n",
       "    <tr>\n",
       "      <th>0</th>\n",
       "      <td>0.268</td>\n",
       "      <td>0.792</td>\n",
       "      <td>3.75</td>\n",
       "      <td>1.25</td>\n",
       "      <td>0.987</td>\n",
       "      <td>0.694</td>\n",
       "    </tr>\n",
       "    <tr>\n",
       "      <th>1</th>\n",
       "      <td>0.259</td>\n",
       "      <td>0.766</td>\n",
       "      <td>3.77</td>\n",
       "      <td>1.20</td>\n",
       "      <td>0.986</td>\n",
       "      <td>0.689</td>\n",
       "    </tr>\n",
       "    <tr>\n",
       "      <th>2</th>\n",
       "      <td>0.258</td>\n",
       "      <td>0.740</td>\n",
       "      <td>3.74</td>\n",
       "      <td>1.20</td>\n",
       "      <td>0.986</td>\n",
       "      <td>0.709</td>\n",
       "    </tr>\n",
       "    <tr>\n",
       "      <th>3</th>\n",
       "      <td>0.258</td>\n",
       "      <td>0.744</td>\n",
       "      <td>3.65</td>\n",
       "      <td>1.31</td>\n",
       "      <td>0.983</td>\n",
       "      <td>0.702</td>\n",
       "    </tr>\n",
       "    <tr>\n",
       "      <th>4</th>\n",
       "      <td>0.257</td>\n",
       "      <td>0.742</td>\n",
       "      <td>3.75</td>\n",
       "      <td>1.28</td>\n",
       "      <td>0.986</td>\n",
       "      <td>0.710</td>\n",
       "    </tr>\n",
       "  </tbody>\n",
       "</table>\n",
       "</div>"
      ],
      "text/plain": [
       "   AVG▼_x    OPS   ERA  WHIP  FPCT▼    DER\n",
       "0   0.268  0.792  3.75  1.25  0.987  0.694\n",
       "1   0.259  0.766  3.77  1.20  0.986  0.689\n",
       "2   0.258  0.740  3.74  1.20  0.986  0.709\n",
       "3   0.258  0.744  3.65  1.31  0.983  0.702\n",
       "4   0.257  0.742  3.75  1.28  0.986  0.710"
      ]
     },
     "execution_count": 33,
     "metadata": {},
     "output_type": "execute_result"
    }
   ],
   "source": [
    "X.head()"
   ]
  },
  {
   "cell_type": "code",
   "execution_count": 34,
   "metadata": {},
   "outputs": [],
   "source": [
    "# Set target variable\n",
    "y = df['Playoff']"
   ]
  },
  {
   "cell_type": "code",
   "execution_count": 35,
   "metadata": {},
   "outputs": [
    {
     "data": {
      "text/plain": [
       "0    1.0\n",
       "1    1.0\n",
       "2    0.0\n",
       "3    1.0\n",
       "4    1.0\n",
       "Name: Playoff, dtype: float64"
      ]
     },
     "execution_count": 35,
     "metadata": {},
     "output_type": "execute_result"
    }
   ],
   "source": [
    "y.head()"
   ]
  },
  {
   "cell_type": "code",
   "execution_count": 36,
   "metadata": {},
   "outputs": [],
   "source": [
    "# Split dataset for train & test\n",
    "X_train, X_test, y_train, y_test = train_test_split(X, \n",
    "                                                    y, \n",
    "                                                    test_size=.2, \n",
    "                                                    random_state=27)"
   ]
  },
  {
   "cell_type": "code",
   "execution_count": 37,
   "metadata": {},
   "outputs": [],
   "source": [
    "# Set a pipeline with Scaler and Regressor\n",
    "pipeline = Pipeline([\n",
    "    ('scaler', StandardScaler()),\n",
    "    ('classifier', LogisticRegression(solver='lbfgs',\n",
    "                                      random_state=27))\n",
    "])"
   ]
  },
  {
   "cell_type": "code",
   "execution_count": 38,
   "metadata": {},
   "outputs": [
    {
     "data": {
      "text/plain": [
       "Pipeline(memory=None,\n",
       "     steps=[('scaler', StandardScaler(copy=True, with_mean=True, with_std=True)), ('classifier', LogisticRegression(C=1.0, class_weight=None, dual=False, fit_intercept=True,\n",
       "          intercept_scaling=1, max_iter=100, multi_class='warn',\n",
       "          n_jobs=None, penalty='l2', random_state=27, solver='lbfgs',\n",
       "          tol=0.0001, verbose=0, warm_start=False))])"
      ]
     },
     "execution_count": 38,
     "metadata": {},
     "output_type": "execute_result"
    }
   ],
   "source": [
    "# Train the model\n",
    "pipeline.fit(X_train, y_train)"
   ]
  },
  {
   "cell_type": "code",
   "execution_count": 39,
   "metadata": {},
   "outputs": [
    {
     "data": {
      "text/plain": [
       "0.8245614035087719"
      ]
     },
     "execution_count": 39,
     "metadata": {},
     "output_type": "execute_result"
    }
   ],
   "source": [
    "# Get score for evaluation\n",
    "pipeline.score(X_test, y_test)"
   ]
  },
  {
   "cell_type": "code",
   "execution_count": 40,
   "metadata": {},
   "outputs": [
    {
     "data": {
      "text/plain": [
       "0.8903508771929824"
      ]
     },
     "execution_count": 40,
     "metadata": {},
     "output_type": "execute_result"
    }
   ],
   "source": [
    "# Get score with train data\n",
    "pipeline.score(X_train, y_train)"
   ]
  },
  {
   "cell_type": "code",
   "execution_count": 41,
   "metadata": {},
   "outputs": [],
   "source": [
    "# get prediction values\n",
    "train_predicts = pipeline.predict(X_train)\n",
    "test_predicts = pipeline.predict(X_test)"
   ]
  },
  {
   "cell_type": "markdown",
   "metadata": {},
   "source": [
    "#### Evaluate the model"
   ]
  },
  {
   "cell_type": "code",
   "execution_count": 42,
   "metadata": {},
   "outputs": [
    {
     "name": "stdout",
     "output_type": "stream",
     "text": [
      "              precision    recall  f1-score   support\n",
      "\n",
      "         0.0       0.87      0.91      0.89        88\n",
      "         1.0       0.64      0.54      0.58        26\n",
      "\n",
      "   micro avg       0.82      0.82      0.82       114\n",
      "   macro avg       0.75      0.72      0.74       114\n",
      "weighted avg       0.82      0.82      0.82       114\n",
      "\n"
     ]
    }
   ],
   "source": [
    "# classification report\n",
    "print(classification_report(y_test, test_predicts))"
   ]
  },
  {
   "cell_type": "code",
   "execution_count": 43,
   "metadata": {},
   "outputs": [
    {
     "name": "stdout",
     "output_type": "stream",
     "text": [
      "              precision    recall  f1-score   support\n",
      "\n",
      "         0.0       0.91      0.94      0.93       330\n",
      "         1.0       0.83      0.75      0.79       126\n",
      "\n",
      "   micro avg       0.89      0.89      0.89       456\n",
      "   macro avg       0.87      0.85      0.86       456\n",
      "weighted avg       0.89      0.89      0.89       456\n",
      "\n"
     ]
    }
   ],
   "source": [
    "print(classification_report(y_train, train_predicts))"
   ]
  },
  {
   "cell_type": "markdown",
   "metadata": {},
   "source": [
    "#### Draw Confusion Matrix with matplotlib"
   ]
  },
  {
   "cell_type": "code",
   "execution_count": 44,
   "metadata": {},
   "outputs": [],
   "source": [
    "def show_cf(y_true, y_pred, class_names=None, model_name=None):\n",
    "    \"\"\"Draw a confusion matrix with matplotlib\"\"\"\n",
    "    cf = confusion_matrix(y_true, y_pred)\n",
    "    plt.imshow(cf, cmap=plt.cm.Blues)\n",
    "        \n",
    "    if model_name:\n",
    "        plt.title(\"Confusion Matrix: {}\".format(model_name))\n",
    "    else:\n",
    "        plt.title(\"Confusion Matrix\")\n",
    "    plt.ylabel('True Label')\n",
    "    plt.xlabel('Predicted Label')\n",
    "    \n",
    "    class_names = set(y_true)\n",
    "    tick_marks = np.arange(len(class_names))\n",
    "    if class_names:\n",
    "        plt.xticks(tick_marks, class_names)\n",
    "        plt.yticks(tick_marks, class_names)\n",
    "    \n",
    "    thresh = cf.max() / 2.\n",
    "    \n",
    "    for i, j in itertools.product(range(cf.shape[0]), range(cf.shape[1])):\n",
    "        plt.text(j, i, cf[i, j], \n",
    "                 horizontalalignment='center',\n",
    "                 verticalalignment='top' if i == 0 else 'bottom',\n",
    "                 color='white' if cf[i, j] > thresh else 'black')\n",
    "\n",
    "    plt.colorbar()"
   ]
  },
  {
   "cell_type": "code",
   "execution_count": 45,
   "metadata": {},
   "outputs": [
    {
     "data": {
      "image/png": "[encoded data removed]",
      "text/plain": [
       "<Figure size 432x288 with 2 Axes>"
      ]
     },
     "metadata": {},
     "output_type": "display_data"
    }
   ],
   "source": [
    "# Draw confusion matrix\n",
    "show_cf(y_test, test_predicts)"
   ]
  },
  {
   "cell_type": "markdown",
   "metadata": {},
   "source": [
    "### Playoff odds on 7/31/19    "
   ]
  },
  {
   "cell_type": "markdown",
   "metadata": {},
   "source": [
    "#### Let's see Seattle first (actually I live in Seattle area)\n",
    "\n",
    "\n",
    "Seattle Mariners  (W : 47 -  L : 63, PCT : .427)\n",
    "- Batting AVG : .245\n",
    "- OPS : .767\n",
    "- ERA : 5.20\n",
    "- WHIP : 1.41\n",
    "- FPCT : .975\n",
    "- DER : .686\n"
   ]
  },
  {
   "cell_type": "code",
   "execution_count": 46,
   "metadata": {},
   "outputs": [
    {
     "name": "stdout",
     "output_type": "stream",
     "text": [
      "Playoff odds for Seattle Mariners is 0.17%. :(\n"
     ]
    }
   ],
   "source": [
    "# Mariners\n",
    "mariners_0731 = [[.242, .763, 5.20, 1.41, .975, .686]]\n",
    "proba = pipeline.predict_proba(mariners_0731)\n",
    "print(f'Playoff odds for Seattle Mariners is {proba[0][1] * 100:0.2f}%. :(')"
   ]
  },
  {
   "cell_type": "markdown",
   "metadata": {},
   "source": [
    "#### Now let's predict AL wild card"
   ]
  },
  {
   "cell_type": "markdown",
   "metadata": {},
   "source": [
    "**Oakland  (W : 61 -  L : 47, PCT : .565,  AL Wildcard Leader)**\n",
    "\n",
    "- Batting AVG : .246\n",
    "- OPS : .761\n",
    "- ERA : 4.10\n",
    "- WHIP : 1.27\n",
    "- FPCT : .986\n",
    "- DER : .711\n",
    "\n"
   ]
  },
  {
   "cell_type": "code",
   "execution_count": 47,
   "metadata": {},
   "outputs": [
    {
     "name": "stdout",
     "output_type": "stream",
     "text": [
      "Playoff odds for Oakland Athletics is 25.34%.\n"
     ]
    }
   ],
   "source": [
    "# Athletics\n",
    "athletics_0731 = [[.246, .761, 4.10, 1.27, .986, .711]]\n",
    "proba = pipeline.predict_proba(athletics_0731)\n",
    "print(f'Playoff odds for Oakland Athletics is {proba[0][1] * 100:0.2f}%.')"
   ]
  },
  {
   "cell_type": "markdown",
   "metadata": {},
   "source": [
    "**Tempa Bay  (W : 61 -  L : 48, PCT : .565,  AL WCGB : 0.5)**\n",
    "\n",
    "- Batting AVG : .254\n",
    "- OPS : .757\n",
    "- ERA : 3.56\n",
    "- WHIP : 1.17\n",
    "- FPCT : .987\n",
    "- DER : .701\n",
    "\n"
   ]
  },
  {
   "cell_type": "code",
   "execution_count": 48,
   "metadata": {},
   "outputs": [
    {
     "name": "stdout",
     "output_type": "stream",
     "text": [
      "Playoff odds for Tempa Bay Rays is 86.32%.\n"
     ]
    }
   ],
   "source": [
    "# Rays\n",
    "rays_0731 = [[.254, .757, 3.56, 1.17, .987, .701]]\n",
    "proba = pipeline.predict_proba(rays_0731)\n",
    "print(f'Playoff odds for Tempa Bay Rays is {proba[0][1] * 100:0.2f}%.')"
   ]
  },
  {
   "cell_type": "markdown",
   "metadata": {},
   "source": [
    "*My model says Rays has much higher probability than Atheltics's*"
   ]
  },
  {
   "cell_type": "markdown",
   "metadata": {},
   "source": [
    "#### How about LA Dodgers? \n",
    "\n",
    "Actually LA dominates NL in 2019 season."
   ]
  },
  {
   "cell_type": "markdown",
   "metadata": {},
   "source": [
    "**LA Dodgers  (W : 71 - L : 39, PCT : .645)**\n",
    "\n",
    "\n",
    "- Batting AVG : .260\n",
    "- OPS : .808\n",
    "- ERA : 3.39\n",
    "- WHIP : 1.11\n",
    "- FPCT : .980\n",
    "- DER : .713"
   ]
  },
  {
   "cell_type": "code",
   "execution_count": 49,
   "metadata": {},
   "outputs": [],
   "source": [
    "dodgers_0731 = [[.260, .808, 3.39, 1.11, .980, .713]]"
   ]
  },
  {
   "cell_type": "code",
   "execution_count": 50,
   "metadata": {},
   "outputs": [],
   "source": [
    "proba = pipeline.predict_proba(dodgers_0731)"
   ]
  },
  {
   "cell_type": "code",
   "execution_count": 51,
   "metadata": {},
   "outputs": [
    {
     "name": "stdout",
     "output_type": "stream",
     "text": [
      "Playoff odds for LA Dodgers is 99.45%.\n"
     ]
    }
   ],
   "source": [
    "print(f'Playoff odds for LA Dodgers is {proba[0][1] * 100:0.2f}%.')"
   ]
  },
  {
   "cell_type": "markdown",
   "metadata": {},
   "source": [
    "*Base on my prediction model LA Dodgers definately advance to playoffs*"
   ]
  },
  {
   "cell_type": "markdown",
   "metadata": {},
   "source": [
    "### What is Next?"
   ]
  },
  {
   "cell_type": "markdown",
   "metadata": {},
   "source": [
    "- Try to make a model with more classification methods (KNN, SVM, ...)\n",
    "- Try to use the other features such as League, hits per a game, ...\n",
    "- Make a simple app for check every teams\n"
   ]
  },
  {
   "cell_type": "markdown",
   "metadata": {},
   "source": [
    "### Make a function for evaluating the model"
   ]
  },
  {
   "cell_type": "code",
   "execution_count": 89,
   "metadata": {},
   "outputs": [],
   "source": [
    "def evalute_model(pipeline, X, y):\n",
    "    X_train, X_test, y_train, y_test = train_test_split(X, \n",
    "                                                    y, \n",
    "                                                    test_size=.2, \n",
    "                                                    random_state=27)\n",
    "    # train model\n",
    "    pipeline.fit(X_train, y_train)\n",
    "    \n",
    "    # check score of model\n",
    "    print('--------------------------------------------------------')\n",
    "    print('model score with test dataset: ', \n",
    "          pipeline.score(X_test, y_test))\n",
    "\n",
    "    \n",
    "    # check classification_report\n",
    "    predictions = pipeline.predict(X_test)\n",
    "\n",
    "    # f1 score\n",
    "    print('--------------------------------------------------------')\n",
    "    print('f1 score with test dataset: ', \n",
    "          f1_score(y_test, predictions))\n",
    "\n",
    "\n",
    "    print('--------------------------------------------------------')\n",
    "    print(classification_report(y_test, predictions))\n",
    "    print('--------------------------------------------------------')\n",
    "\n"
   ]
  },
  {
   "cell_type": "markdown",
   "metadata": {},
   "source": [
    "### Let's try with KNN method"
   ]
  },
  {
   "cell_type": "code",
   "execution_count": 84,
   "metadata": {},
   "outputs": [],
   "source": [
    "from sklearn.neighbors import KNeighborsClassifier\n",
    "from sklearn.metrics import f1_score"
   ]
  },
  {
   "cell_type": "code",
   "execution_count": 85,
   "metadata": {},
   "outputs": [],
   "source": [
    "# make a pipeline with KNN\n",
    "pipeline = Pipeline([\n",
    "    ('scaler', StandardScaler()),\n",
    "    ('classifier', KNeighborsClassifier())\n",
    "])\n"
   ]
  },
  {
   "cell_type": "code",
   "execution_count": 90,
   "metadata": {},
   "outputs": [
    {
     "name": "stdout",
     "output_type": "stream",
     "text": [
      "--------------------------------------------------------\n",
      "model score with test dataset:  0.8070175438596491\n",
      "--------------------------------------------------------\n",
      "f1 score with test dataset:  0.5599999999999999\n",
      "--------------------------------------------------------\n",
      "              precision    recall  f1-score   support\n",
      "\n",
      "         0.0       0.87      0.89      0.88        88\n",
      "         1.0       0.58      0.54      0.56        26\n",
      "\n",
      "   micro avg       0.81      0.81      0.81       114\n",
      "   macro avg       0.73      0.71      0.72       114\n",
      "weighted avg       0.80      0.81      0.80       114\n",
      "\n",
      "--------------------------------------------------------\n"
     ]
    }
   ],
   "source": [
    "evalute_model(pipeline, X, y)"
   ]
  },
  {
   "cell_type": "code",
   "execution_count": 69,
   "metadata": {},
   "outputs": [],
   "source": [
    "# Find best K value for KNN\n",
    "def find_best_k(X_train, y_train, X_test, y_test, min_k=1, max_k=25):\n",
    "    best_k = 0\n",
    "    best_score = 0.0\n",
    "    for k in range(min_k, max_k+1, 2):\n",
    "        pipeline = Pipeline([\n",
    "            ('scaler', StandardScaler()),\n",
    "            ('classifier', KNeighborsClassifier(n_neighbors=k))\n",
    "        ])\n",
    "\n",
    "        pipeline.fit(X_train, y_train)\n",
    "        predictions = pipeline.predict(X_test)\n",
    "        f1 = f1_score(y_test, predictions)\n",
    "        \n",
    "#         print(f'{k} : {f1}')\n",
    "        if f1 > best_score:\n",
    "            best_k = k\n",
    "            best_score = f1\n",
    "    \n",
    "    print(\"Best Value for k: {}\".format(best_k))\n",
    "    print(\"F1-Score: {}\".format(best_score))"
   ]
  },
  {
   "cell_type": "code",
   "execution_count": 70,
   "metadata": {},
   "outputs": [
    {
     "name": "stdout",
     "output_type": "stream",
     "text": [
      "Best Value for k: 1\n",
      "F1-Score: 0.6153846153846154\n"
     ]
    }
   ],
   "source": [
    "find_best_k(X_train, y_train, X_test, y_test)"
   ]
  },
  {
   "cell_type": "code",
   "execution_count": 91,
   "metadata": {},
   "outputs": [],
   "source": [
    "pipeline = Pipeline([\n",
    "    ('scaler', StandardScaler()),\n",
    "    ('classifier', KNeighborsClassifier(n_neighbors=1))\n",
    "   \n",
    "])"
   ]
  },
  {
   "cell_type": "code",
   "execution_count": 92,
   "metadata": {},
   "outputs": [
    {
     "name": "stdout",
     "output_type": "stream",
     "text": [
      "--------------------------------------------------------\n",
      "model score with test dataset:  0.8245614035087719\n",
      "--------------------------------------------------------\n",
      "f1 score with test dataset:  0.6153846153846154\n",
      "--------------------------------------------------------\n",
      "              precision    recall  f1-score   support\n",
      "\n",
      "         0.0       0.89      0.89      0.89        88\n",
      "         1.0       0.62      0.62      0.62        26\n",
      "\n",
      "   micro avg       0.82      0.82      0.82       114\n",
      "   macro avg       0.75      0.75      0.75       114\n",
      "weighted avg       0.82      0.82      0.82       114\n",
      "\n",
      "--------------------------------------------------------\n"
     ]
    }
   ],
   "source": [
    "evalute_model(pipeline, X, y)"
   ]
  },
  {
   "cell_type": "markdown",
   "metadata": {},
   "source": [
    "#### f1 score for KNN is not so good."
   ]
  },
  {
   "cell_type": "markdown",
   "metadata": {},
   "source": [
    "### Let's try with SVM (Support Vector Machine) method"
   ]
  },
  {
   "cell_type": "code",
   "execution_count": 72,
   "metadata": {},
   "outputs": [],
   "source": [
    "from sklearn import svm"
   ]
  },
  {
   "cell_type": "code",
   "execution_count": 94,
   "metadata": {},
   "outputs": [],
   "source": [
    "# make a pipeline with SVC\n",
    "pipeline = Pipeline([\n",
    "    ('scaler', StandardScaler()),\n",
    "    ('classifier', svm.SVC(kernel='linear'))\n",
    "])\n"
   ]
  },
  {
   "cell_type": "code",
   "execution_count": 95,
   "metadata": {},
   "outputs": [
    {
     "name": "stdout",
     "output_type": "stream",
     "text": [
      "--------------------------------------------------------\n",
      "model score with test dataset:  0.8070175438596491\n",
      "--------------------------------------------------------\n",
      "f1 score with test dataset:  0.5217391304347826\n",
      "--------------------------------------------------------\n",
      "              precision    recall  f1-score   support\n",
      "\n",
      "         0.0       0.85      0.91      0.88        88\n",
      "         1.0       0.60      0.46      0.52        26\n",
      "\n",
      "   micro avg       0.81      0.81      0.81       114\n",
      "   macro avg       0.73      0.69      0.70       114\n",
      "weighted avg       0.79      0.81      0.80       114\n",
      "\n",
      "--------------------------------------------------------\n"
     ]
    }
   ],
   "source": [
    "evalute_model(pipeline, X, y)"
   ]
  },
  {
   "cell_type": "markdown",
   "metadata": {},
   "source": [
    "### Let's try with XGBoost method"
   ]
  },
  {
   "cell_type": "code",
   "execution_count": 113,
   "metadata": {},
   "outputs": [],
   "source": [
    "import xgboost as xgb\n",
    "\n",
    "from sklearn.metrics import accuracy_score\n",
    "from sklearn.model_selection import GridSearchCV"
   ]
  },
  {
   "cell_type": "code",
   "execution_count": 114,
   "metadata": {},
   "outputs": [],
   "source": [
    "xgb_pp = Pipeline([\n",
    "    ('scaler', StandardScaler()),\n",
    "    ('classifier', xgb.XGBClassifier())\n",
    "])"
   ]
  },
  {
   "cell_type": "code",
   "execution_count": 115,
   "metadata": {},
   "outputs": [
    {
     "name": "stdout",
     "output_type": "stream",
     "text": [
      "--------------------------------------------------------\n",
      "model score with test dataset:  0.8070175438596491\n",
      "--------------------------------------------------------\n",
      "f1 score with test dataset:  0.5416666666666667\n",
      "--------------------------------------------------------\n",
      "              precision    recall  f1-score   support\n",
      "\n",
      "         0.0       0.86      0.90      0.88        88\n",
      "         1.0       0.59      0.50      0.54        26\n",
      "\n",
      "   micro avg       0.81      0.81      0.81       114\n",
      "   macro avg       0.72      0.70      0.71       114\n",
      "weighted avg       0.80      0.81      0.80       114\n",
      "\n",
      "--------------------------------------------------------\n"
     ]
    }
   ],
   "source": [
    "evalute_model(xgb_pp, X, y)"
   ]
  },
  {
   "cell_type": "code",
   "execution_count": 167,
   "metadata": {},
   "outputs": [],
   "source": [
    "# find best XGBoost parameters\n",
    "param_grid = {\n",
    "    \"learning_rate\": [0.1, 0.2],\n",
    "    'max_depth': [15],\n",
    "    'min_child_weight': [15],\n",
    "    'subsample': [0.2, 0.5, 0.8],\n",
    "    'n_estimators': [5, 30, 100, 250, 500, 1000],\n",
    "}"
   ]
  },
  {
   "cell_type": "code",
   "execution_count": 168,
   "metadata": {},
   "outputs": [],
   "source": [
    "clf = xgb.XGBClassifier()"
   ]
  },
  {
   "cell_type": "code",
   "execution_count": 169,
   "metadata": {},
   "outputs": [],
   "source": [
    "ss = StandardScaler()"
   ]
  },
  {
   "cell_type": "code",
   "execution_count": 170,
   "metadata": {},
   "outputs": [],
   "source": [
    "# Split dataset for train & test\n",
    "X_train, X_test, y_train, y_test = train_test_split(X, \n",
    "                                                    y, \n",
    "                                                    test_size=.2, \n",
    "                                                    random_state=27)"
   ]
  },
  {
   "cell_type": "code",
   "execution_count": 171,
   "metadata": {},
   "outputs": [],
   "source": [
    "scaled_X_train = ss.fit_transform(X_train)\n",
    "scaled_X_test = ss.transform(X_test)"
   ]
  },
  {
   "cell_type": "code",
   "execution_count": 172,
   "metadata": {},
   "outputs": [
    {
     "name": "stdout",
     "output_type": "stream",
     "text": [
      "Grid Search found the following optimal parameters: \n",
      "learning_rate: 0.2\n",
      "max_depth: 15\n",
      "min_child_weight: 15\n",
      "n_estimators: 250\n",
      "subsample: 0.8\n",
      "\n",
      "Training Accuracy: 86.62%\n",
      "Validation accuracy: 79.82%\n"
     ]
    }
   ],
   "source": [
    "grid_clf = GridSearchCV(clf, param_grid, scoring='accuracy', cv=3, n_jobs=1)\n",
    "grid_clf.fit(scaled_X_train, y_train)\n",
    "\n",
    "best_parameters = grid_clf.best_params_\n",
    "\n",
    "print(\"Grid Search found the following optimal parameters: \")\n",
    "for param_name in sorted(best_parameters.keys()):\n",
    "    print(\"%s: %r\" % (param_name, best_parameters[param_name]))\n",
    "\n",
    "training_preds = grid_clf.predict(scaled_X_train)\n",
    "val_preds = grid_clf.predict(scaled_X_test)\n",
    "training_accuracy = accuracy_score(y_train, training_preds)\n",
    "val_accuracy = accuracy_score(y_test, val_preds)\n",
    "\n",
    "print(\"\")\n",
    "print(\"Training Accuracy: {:.4}%\".format(training_accuracy * 100))\n",
    "print(\"Validation accuracy: {:.4}%\".format(val_accuracy * 100))\n"
   ]
  },
  {
   "cell_type": "code",
   "execution_count": 174,
   "metadata": {},
   "outputs": [],
   "source": [
    "xgb_pp = Pipeline([\n",
    "    ('scaler', StandardScaler()),\n",
    "    ('classifier', xgb.XGBClassifier(max_depth=15, \n",
    "                                     learning_rate=0.2, \n",
    "                                     min_child_weight=15,\n",
    "                                     n_estimators=250,\n",
    "                                     subsample=0.8\n",
    "                                    ))\n",
    "])"
   ]
  },
  {
   "cell_type": "code",
   "execution_count": 175,
   "metadata": {},
   "outputs": [
    {
     "name": "stdout",
     "output_type": "stream",
     "text": [
      "--------------------------------------------------------\n",
      "model score with test dataset:  0.7982456140350878\n",
      "--------------------------------------------------------\n",
      "f1 score with test dataset:  0.5106382978723405\n",
      "--------------------------------------------------------\n",
      "              precision    recall  f1-score   support\n",
      "\n",
      "         0.0       0.85      0.90      0.87        88\n",
      "         1.0       0.57      0.46      0.51        26\n",
      "\n",
      "   micro avg       0.80      0.80      0.80       114\n",
      "   macro avg       0.71      0.68      0.69       114\n",
      "weighted avg       0.79      0.80      0.79       114\n",
      "\n",
      "--------------------------------------------------------\n"
     ]
    }
   ],
   "source": [
    "evalute_model(xgb_pp, X, y)"
   ]
  },
  {
   "cell_type": "code",
   "execution_count": null,
   "metadata": {},
   "outputs": [],
   "source": []
  },
  {
   "cell_type": "code",
   "execution_count": 176,
   "metadata": {},
   "outputs": [],
   "source": [
    "from sklearn.ensemble import BaggingClassifier, RandomForestClassifier\n"
   ]
  },
  {
   "cell_type": "code",
   "execution_count": 179,
   "metadata": {},
   "outputs": [],
   "source": [
    "rfc_pp = Pipeline([\n",
    "    ('scaler', StandardScaler()),\n",
    "    ('classifier', RandomForestClassifier(n_estimators=100, max_depth= 5))\n",
    "])"
   ]
  },
  {
   "cell_type": "code",
   "execution_count": 180,
   "metadata": {},
   "outputs": [
    {
     "name": "stdout",
     "output_type": "stream",
     "text": [
      "--------------------------------------------------------\n",
      "model score with test dataset:  0.8157894736842105\n",
      "--------------------------------------------------------\n",
      "f1 score with test dataset:  0.5531914893617021\n",
      "--------------------------------------------------------\n",
      "              precision    recall  f1-score   support\n",
      "\n",
      "         0.0       0.86      0.91      0.88        88\n",
      "         1.0       0.62      0.50      0.55        26\n",
      "\n",
      "   micro avg       0.82      0.82      0.82       114\n",
      "   macro avg       0.74      0.70      0.72       114\n",
      "weighted avg       0.81      0.82      0.81       114\n",
      "\n",
      "--------------------------------------------------------\n"
     ]
    }
   ],
   "source": [
    "evalute_model(rfc_pp, X, y)"
   ]
  },
  {
   "cell_type": "code",
   "execution_count": null,
   "metadata": {},
   "outputs": [],
   "source": []
  }
 ],
 "metadata": {
  "kernelspec": {
   "display_name": "Python 3",
   "language": "python",
   "name": "python3"
  },
  "language_info": {
   "codemirror_mode": {
    "name": "ipython",
    "version": 3
   },
   "file_extension": ".py",
   "mimetype": "text/x-python",
   "name": "python",
   "nbconvert_exporter": "python",
   "pygments_lexer": "ipython3",
   "version": "3.7.3"
  }
 },
 "nbformat": 4,
 "nbformat_minor": 2
}
